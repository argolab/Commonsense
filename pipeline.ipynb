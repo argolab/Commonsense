{
 "cells": [
  {
   "cell_type": "code",
   "execution_count": 1,
   "metadata": {},
   "outputs": [],
   "source": [
    "from importlib import reload\n",
    "import mrf\n",
    "import AgentS1\n",
    "import AgentS2\n",
    "import utils\n",
    "import evaluate"
   ]
  },
  {
   "cell_type": "code",
   "execution_count": 2,
   "metadata": {},
   "outputs": [],
   "source": [
    "from pathlib import Path\n",
    "import json\n",
    "\n",
    "class RunAgents():\n",
    "    def __init__(self, question_schema, prompts, log_dir, city, model_dial, model_trans, chat_temp):\n",
    "        # check if log_dir exists, if not add\n",
    "\n",
    "        self.question_schema = question_schema\n",
    "        self.prompts = prompts\n",
    "        path = Path(log_dir)\n",
    "        path.mkdir(parents=True, exist_ok=True)\n",
    "\n",
    "        self.log_dir = log_dir\n",
    "        self.city = city\n",
    "        self.model_dial = model_dial\n",
    "        self.model_trans = model_trans\n",
    "        self.chat_temp = chat_temp\n",
    "\n",
    "    \n",
    "    def run_agents(self):\n",
    "        self.agents1 = AgentS1.AgentS1(self.prompts, self.question_schema, city=self.city, log_dir=self.log_dir, log_name='agents1.json', model_dial=self.model_dial, model_trans=self.model_trans, chat_temp=self.chat_temp)\n",
    "        \n",
    "        s1_schema = self.agents1.compile()\n",
    "\n",
    "        self.agents2 = AgentS2.AgentS2(self.prompts, s1_schema, city=self.city, log_dir=self.log_dir, log_name='agents2.json', model_dial=self.model_dial, model_trans=self.model_trans, chat_temp=self.chat_temp)\n",
    "\n",
    "        s2_schema = self.agents2.compile()\n",
    "\n",
    "        # save s2_schema\n",
    "        json.dump(s2_schema, open(f'{self.log_dir}/agents.json', 'w'), indent=4)\n",
    "\n",
    "        return s2_schema\n",
    "\n",
    "\n"
   ]
  },
  {
   "cell_type": "code",
   "execution_count": 44,
   "metadata": {},
   "outputs": [
    {
     "name": "stdout",
     "output_type": "stream",
     "text": [
      "[{'Name': 'Number of Bathrooms', 'Value': ['0-2', '3 or more']}, {'Name': 'Number of Beds', 'Value': ['0-1', '2-3', '4 or more']}, {'Name': 'Property Type', 'Value': ['Apartment', 'House', 'Condo']}, {'Name': 'Price', 'Value': ['$0-$50', '$51-$100', '$101-$200', '$201-$500', '$501 and above']}]\n",
      "Evaluating BrowardCounty\n",
      "{'Question': {'Target': [{'Name': 'Price'}], 'Condition': [{'Name': 'Number of Bathrooms', 'Value': ['3+ bathrooms']}, {'Name': 'Total Beds', 'Value': ['0/1 bed']}], 'Text': 'How much does an Airbnb listing in Broward County, FL cost per night if it has 3 or more bathrooms, 0 or 1 bed, and no other specified conditions?'}, 'Variables': [{'Name': 'Number of Bathrooms', 'Value': ['0-2', '3 or more']}, {'Name': 'Number of Beds', 'Value': ['0-1', '2-3', '4 or more']}, {'Name': 'Property Type', 'Value': ['Apartment', 'House', 'Condo']}, {'Name': 'Price', 'Value': ['$0-$50', '$51-$100', '$101-$200', '$201-$500', '$501 and above']}], 'Queries': [{'Target': [{'Name': 'Price'}], 'Condition': [{'Name': 'Number of Bathrooms', 'Value': ['3 or more']}, {'Name': 'Number of Beds', 'Value': ['0-1']}]}], 'Constraints': [{'Target': [{'Name': 'Property Type', 'Value': ['Apartment', 'House', 'Condo']}], 'Condition': [], 'Probability': [0.4, 0.35, 0.25]}, {'Target': [{'Name': 'Number of Bathrooms', 'Value': ['0-2', '3 or more']}], 'Condition': [], 'Probability': [0.7, 0.3]}, {'Target': [{'Name': 'Number of Beds', 'Value': ['0-1', '2-3', '4 or more']}], 'Condition': [], 'Probability': [0.3, 0.5, 0.2]}, {'Target': [{'Name': 'Price', 'Value': ['$0-$50', '$51-$100', '$101-$200', '$201-$500', '$501 and above']}], 'Condition': [], 'Probability': [0.05, 0.15, 0.4, 0.3, 0.1]}, {'Target': [{'Name': 'Number of Beds', 'Value': ['0-1', '2-3', '4 or more']}], 'Condition': [{'Name': 'Number of Bathrooms', 'Value': ['0-2'], 'Other': ['3 or more']}], 'Probability': [0.5, 0.4, 0.1]}, {'Target': [{'Name': 'Number of Beds', 'Value': ['0-1', '2-3', '4 or more']}], 'Condition': [{'Name': 'Number of Bathrooms', 'Value': ['3 or more'], 'Other': ['0-2']}], 'Probability': [0.05, 0.3, 0.65]}, {'Target': [{'Name': 'Price', 'Value': ['$0-$50', '$51-$100', '$101-$200', '$201-$500', '$501 and above']}], 'Condition': [{'Name': 'Number of Bathrooms', 'Value': ['0-2'], 'Other': ['3 or more']}], 'Probability': [0.05, 0.2, 0.5, 0.2, 0.05]}, {'Target': [{'Name': 'Price', 'Value': ['$0-$50', '$51-$100', '$101-$200', '$201-$500', '$501 and above']}], 'Condition': [{'Name': 'Number of Bathrooms', 'Value': ['3 or more'], 'Other': ['0-2']}], 'Probability': [0.01, 0.04, 0.15, 0.5, 0.3]}, {'Target': [{'Name': 'Number of Beds', 'Value': ['0-1', '2-3', '4 or more']}], 'Condition': [{'Name': 'Property Type', 'Value': ['Apartment'], 'Other': ['House', 'Condo']}], 'Probability': [0.5, 0.4, 0.1]}, {'Target': [{'Name': 'Number of Beds', 'Value': ['0-1', '2-3', '4 or more']}], 'Condition': [{'Name': 'Property Type', 'Value': ['House'], 'Other': ['Apartment', 'Condo']}], 'Probability': [0.1, 0.6, 0.3]}, {'Target': [{'Name': 'Number of Beds', 'Value': ['0-1', '2-3', '4 or more']}], 'Condition': [{'Name': 'Property Type', 'Value': ['Condo'], 'Other': ['Apartment', 'House']}], 'Probability': [0.5, 0.4, 0.1]}, {'Target': [{'Name': 'Price', 'Value': ['$0-$50', '$51-$100', '$101-$200', '$201-$500', '$501 and above']}], 'Condition': [{'Name': 'Property Type', 'Value': ['Apartment'], 'Other': ['House', 'Condo']}], 'Probability': [0.05, 0.2, 0.4, 0.25, 0.1]}, {'Target': [{'Name': 'Price', 'Value': ['$0-$50', '$51-$100', '$101-$200', '$201-$500', '$501 and above']}], 'Condition': [{'Name': 'Property Type', 'Value': ['House'], 'Other': ['Apartment', 'Condo']}], 'Probability': [0.05, 0.1, 0.3, 0.4, 0.15]}, {'Target': [{'Name': 'Price', 'Value': ['$0-$50', '$51-$100', '$101-$200', '$201-$500', '$501 and above']}], 'Condition': [{'Name': 'Property Type', 'Value': ['Condo'], 'Other': ['Apartment', 'House']}], 'Probability': [0.05, 0.15, 0.4, 0.3, 0.1]}, {'Target': [{'Name': 'Price', 'Value': ['$0-$50', '$51-$100', '$101-$200', '$201-$500', '$501 and above']}], 'Condition': [{'Name': 'Number of Beds', 'Value': ['0-1'], 'Other': ['2-3', '4 or more']}], 'Probability': [0.1, 0.3, 0.4, 0.15, 0.05]}, {'Target': [{'Name': 'Price', 'Value': ['$0-$50', '$51-$100', '$101-$200', '$201-$500', '$501 and above']}], 'Condition': [{'Name': 'Number of Beds', 'Value': ['2-3'], 'Other': ['0-1', '4 or more']}], 'Probability': [0.05, 0.15, 0.4, 0.3, 0.1]}, {'Target': [{'Name': 'Price', 'Value': ['$0-$50', '$51-$100', '$101-$200', '$201-$500', '$501 and above']}], 'Condition': [{'Name': 'Number of Beds', 'Value': ['4 or more'], 'Other': ['0-1', '2-3']}], 'Probability': [0.01, 0.04, 0.15, 0.5, 0.3]}]}\n",
      "-----------------------------------------------\n",
      "Finished building\n",
      "Features:  69\n",
      "Constraints:  68\n",
      "-----------------------------------------------\n"
     ]
    },
    {
     "name": "stderr",
     "output_type": "stream",
     "text": [
      "Training Progress:   2%|▏         | 196/10000 [00:00<00:05, 1958.43it/s]"
     ]
    },
    {
     "name": "stdout",
     "output_type": "stream",
     "text": [
      "Loss:  tensor(7.4462, grad_fn=<SumBackward0>) torch.return_types.topk(\n",
      "values=tensor([0.8257, 0.7541, 0.7460, 0.6638, 0.5289], grad_fn=<TopkBackward0>),\n",
      "indices=tensor([48, 53, 19, 31, 58]))\n"
     ]
    },
    {
     "name": "stderr",
     "output_type": "stream",
     "text": [
      "Training Progress:  33%|███▎      | 3341/10000 [00:00<00:00, 7860.06it/s]"
     ]
    },
    {
     "name": "stdout",
     "output_type": "stream",
     "text": [
      "Loss:  tensor(0.0366, grad_fn=<SumBackward0>) torch.return_types.topk(\n",
      "values=tensor([0.0839, 0.0525, 0.0483, 0.0383, 0.0307], grad_fn=<TopkBackward0>),\n",
      "indices=tensor([14, 17,  5, 31, 34]))\n"
     ]
    },
    {
     "name": "stderr",
     "output_type": "stream",
     "text": [
      "Training Progress:  50%|█████     | 5019/10000 [00:00<00:00, 7260.87it/s]"
     ]
    },
    {
     "name": "stdout",
     "output_type": "stream",
     "text": [
      "Loss:  tensor(0.0348, grad_fn=<SumBackward0>) torch.return_types.topk(\n",
      "values=tensor([0.0870, 0.0493, 0.0493, 0.0366, 0.0313], grad_fn=<TopkBackward0>),\n",
      "indices=tensor([14, 17,  5, 31, 34]))\n"
     ]
    },
    {
     "name": "stderr",
     "output_type": "stream",
     "text": [
      "Training Progress:  75%|███████▍  | 7470/10000 [00:01<00:00, 7919.39it/s]"
     ]
    },
    {
     "name": "stdout",
     "output_type": "stream",
     "text": [
      "Loss:  tensor(0.0340, grad_fn=<SumBackward0>) torch.return_types.topk(\n",
      "values=tensor([0.0888, 0.0503, 0.0447, 0.0357, 0.0310], grad_fn=<TopkBackward0>),\n",
      "indices=tensor([14,  5, 17, 31, 34]))\n"
     ]
    },
    {
     "name": "stderr",
     "output_type": "stream",
     "text": [
      "Training Progress:  92%|█████████▏| 9182/10000 [00:01<00:00, 8262.88it/s]"
     ]
    },
    {
     "name": "stdout",
     "output_type": "stream",
     "text": [
      "Loss:  tensor(0.0335, grad_fn=<SumBackward0>) torch.return_types.topk(\n",
      "values=tensor([0.0905, 0.0514, 0.0393, 0.0353, 0.0306], grad_fn=<TopkBackward0>),\n",
      "indices=tensor([14,  5, 17, 31, 34]))\n"
     ]
    },
    {
     "name": "stderr",
     "output_type": "stream",
     "text": [
      "Training Progress: 100%|██████████| 10000/10000 [00:01<00:00, 7515.86it/s]\n"
     ]
    },
    {
     "name": "stdout",
     "output_type": "stream",
     "text": [
      "Loss:  tensor(0.0334, grad_fn=<SumBackward0>) torch.return_types.topk(\n",
      "values=tensor([0.0910, 0.0517, 0.0367, 0.0354, 0.0306], grad_fn=<TopkBackward0>),\n",
      "indices=tensor([14,  5, 17, 31, 34]))\n",
      "Evaluating BrowardCounty\n",
      "-------------  --------------------------  -------------------------------  -------------------------------  --------------------------  --------  -------  -------\n",
      "City           Zero Shot                   Ground                           MRF                              CoT                         Zero TVD  MRF TVD  CoT TVD\n",
      "BrowardCounty  [0.01 0.04 0.15 0.6  0.2 ]  [0.644 0.192 0.027 0.041 0.096]  [0.036 0.179 0.169 0.347 0.269]  [0.01 0.04 0.15 0.5  0.3 ]  0.786     0.621    0.786\n",
      "-------------  --------------------------  -------------------------------  -------------------------------  --------------------------  --------  -------  -------\n"
     ]
    }
   ],
   "source": [
    "import datetime\n",
    "import warnings\n",
    "warnings.simplefilter(action='ignore', category=FutureWarning)\n",
    "from tabulate import tabulate\n",
    "import numpy as np\n",
    "import torch\n",
    "reload(mrf)\n",
    "reload(AgentS1)\n",
    "reload(AgentS2)\n",
    "reload(utils)\n",
    "reload(evaluate)\n",
    "\n",
    "class evaluation_suite():\n",
    "    def __init__(self, question_folder, identifier='', log_dir='./Experiments', prompts='./data/prompts_13.json', model_dial='gpt-4o', model_trans='gpt-3.5', chat_temp=0.3, data_folder='./data/'):\n",
    "\n",
    "        self.question_folder = question_folder\n",
    "        if identifier == '':\n",
    "            self.identifier = str(datetime.datetime.now().strftime('%m%d_%H%M'))\n",
    "        else:\n",
    "            self.identifier = identifier\n",
    "\n",
    "        self.prompts = prompts\n",
    "\n",
    "        self.log_dir = log_dir\n",
    "\n",
    "        self.model_dial = model_dial\n",
    "        self.model_trans = model_trans\n",
    "        self.chat_temp = chat_temp\n",
    "        self.data_folder = data_folder\n",
    "\n",
    "        self.agent_records = {}\n",
    "        self.exp_records = {}\n",
    "\n",
    "\n",
    "\n",
    "    def run_agent(self, ):\n",
    "\n",
    "        # load questions from folder\n",
    "        question_folder = Path(self.question_folder)\n",
    "        question_files = list(question_folder.glob('*.json'))\n",
    "        for question in question_files:\n",
    "            question_schema = json.load(open(question))\n",
    "\n",
    "\n",
    "            city = question_schema['City']\n",
    "            question_schema.pop('City')\n",
    "            # remove state after \", \"\n",
    "            question_name = city.split(',')[0].replace(' ', '')\n",
    "\n",
    "            run_agents = RunAgents(question_schema=question_schema, prompts=self.prompts, log_dir=self.log_dir+f'/{question_name}', city=city, model_dial=self.model_dial, model_trans=self.model_trans, chat_temp=self.chat_temp)\n",
    "\n",
    "            s2_schema_records = run_agents.run_agents()\n",
    "\n",
    "            self.agent_records[question_name] = s2_schema_records\n",
    "            \n",
    "\n",
    "    def load_experiments(self, ):\n",
    "        # load experiments *_schema.json\n",
    "        question_folder = Path(self.log_dir)\n",
    "        # get all folders under question folder, not files\n",
    "        question_folders = [x for x in question_folder.iterdir() if x.is_dir() and '.' not in x.stem]\n",
    "        for question in question_folders:\n",
    "            question_name = question.stem\n",
    "            schema = json.load(open(f'{question}/agents2.json'))\n",
    "            self.agent_records[question_name] = schema\n",
    "            print(schema['schema']['Variables'])\n",
    "\n",
    "\n",
    "    def optimize_mrf(self, w0=0, update_iter=50000):\n",
    "\n",
    "        for question, schema in self.agent_records.items():\n",
    "            print(f'Evaluating {question}')\n",
    "            print(schema['schema'])\n",
    "            mrf_obj = mrf.Brute(verbose=True)\n",
    "            #tmp = schema['schema'].copy()\n",
    "            #tmp = remove_vars(tmp, [], one='Price')\n",
    "            mrf_obj.from_json(schema['schema'])\n",
    "            #print(schema['schema']['Constraints'])\n",
    "            #mrf_obj.from_json(tmp)\n",
    "            if w0 != 0:\n",
    "                mrf_obj.set_w0(w0)\n",
    "            mrf_obj.update(update_iter, slack=False)\n",
    "\n",
    "            # save model to same directory\n",
    "            torch.save(mrf_obj, f'{self.log_dir}/{question}/ent{str(w0)}.pt')\n",
    "        \n",
    "\n",
    "    def get_results(self, w0=0, ):\n",
    "        \n",
    "        for question, schema in self.agent_records.items():\n",
    "\n",
    "            print(f'Evaluating {question}')\n",
    "            try:\n",
    "                mrf_obj = torch.load(f'{self.log_dir}/{question}/ent{str(w0)}.pt')\n",
    "                mrf_result = mrf_obj.query(schema['schema'])\n",
    "            except:\n",
    "                mrf_result = 0\n",
    "            zero_result = schema['zero shot']['result']['Probability']\n",
    "            cot_result = schema['cot']['result']['Probability']\n",
    "            # data folder\n",
    "            dat_path = Path(self.data_folder + '/' + question + '.csv')\n",
    "            data = utils.DatasetQ(dat_path)\n",
    "            ground_truth = data.marg(schema['schema']['Question'])\n",
    "            self.exp_records[question] = {'mrf': mrf_result, 'zero_shot': zero_result, 'cot': cot_result, 'ground_truth': ground_truth}\n",
    "            \n",
    "            json.dump(self.exp_records[question], open(f'{self.log_dir}/{question}/run_results{str(w0)}.json', 'w'), indent=4)\n",
    "\n",
    "\n",
    "\n",
    "    def evaluate(self,):\n",
    "\n",
    "        table = [[\"City\", \"Zero Shot\", \"Ground\", \"MRF\", \"CoT\", \"Zero TVD\", \"MRF TVD\", \"CoT TVD\"]]\n",
    "\n",
    "        for city, results in self.exp_records.items():\n",
    "            tmp = []\n",
    "            #print(results)\n",
    "            mrf_ground = evaluate.total_variation_distance(results['ground_truth'], results['mrf'])\n",
    "            zero_shot_ground = evaluate.total_variation_distance(results['ground_truth'], results['zero_shot'])\n",
    "            cot_ground = evaluate.total_variation_distance(results['ground_truth'], results['cot'])\n",
    "            tmp.append(city)\n",
    "            tmp.append(np.array(results['zero_shot']).round(3))\n",
    "            tmp.append(np.array(results['ground_truth']).round(3))\n",
    "            tmp.append(np.array(results['mrf']).round(3))\n",
    "            tmp.append(np.array(results['cot']).round(3))\n",
    "            #tmp.append((mrf_ground - zero_shot_ground).round(3))\n",
    "            tmp.append(zero_shot_ground.round(3))\n",
    "            tmp.append(mrf_ground.round(3))\n",
    "            tmp.append(cot_ground.round(3))\n",
    "            table.append(tmp)\n",
    "\n",
    "        print(tabulate(table))\n",
    "        return table\n",
    "\n",
    "\n",
    "test = evaluation_suite(question_folder='./Testing', identifier='test', log_dir='./Experiments', prompts='./data/prompts_13.json', model_dial='gpt-4o', model_trans='gpt-3.5-turbo', chat_temp=0)\n",
    "\n",
    "\n",
    "\"\"\"\n",
    "# How to use\n",
    "question_folder: folder with json question files. If you run this script only to get one run on one city, separate the questions so question_folder is './Questions/BrowardCounty' and your question file like './Questions/BrowardCounty/question.json', no restriction on the file name\n",
    "\n",
    "\n",
    "identifier: ignore this\n",
    "\n",
    "\n",
    "log_dir: directory to save results. Similarly if one run one city, set log_dir to './Experiments/run_1'. Script will create and populate folder './Experiments/run_1/BrowardCounty'\n",
    "\n",
    "\n",
    "prompts: fixed path to the prompts file, it contains all prompts needed\n",
    "\n",
    "\n",
    "\n",
    "data_folder: fixed path to the data folder. if set to './data/', will look for csv './data/BrowardCounty.csv'\n",
    "\n",
    "\n",
    "the rest are intuitive\n",
    "\"\"\"\n",
    "\n",
    "\n",
    "\n",
    "# This will iterate over all questions, one in this case, including cot and zero shot, and save the results in the log_dir/cityname/ folder\n",
    "#test.run_agent()\n",
    "\n",
    "\n",
    "# load the saved experiment files that resulted from the previous step\n",
    "test.load_experiments()\n",
    "\n",
    "\n",
    "# this will optimize the MRF model, w0=0 will be faster, automatically save the model to the same folder log_dir/cityname/\n",
    "test.optimize_mrf(w0=0, update_iter=10000)\n",
    "\n",
    "\n",
    "\n",
    "# get results, this only attempts to load mrf from local. If it doesn't exist, it will record other results and dump in log_dir/cityname/\n",
    "test.get_results(w0=0)\n",
    "\n",
    "\n",
    "\n",
    "# this will print the tabulate\n",
    "ret = test.evaluate()\n"
   ]
  },
  {
   "cell_type": "code",
   "execution_count": 24,
   "metadata": {},
   "outputs": [],
   "source": [
    "def remove_vars(constraints, vars, one=''):\n",
    "    ret = {}\n",
    "    ret['Variables'] = []\n",
    "    ret['Constraints'] = []\n",
    "    check = set()\n",
    "    for var in constraints['Variables']:\n",
    "        if var['Name'] not in vars:\n",
    "            ret['Variables'].append(var)\n",
    "    for cons in constraints['Constraints']:\n",
    "        if cons is None:\n",
    "            print(\"None\")\n",
    "            continue\n",
    "        if cons['Target'][0]['Name'] not in vars and (len(cons['Condition']) == 0 or (cons['Condition'][0]['Name'] not in vars)):\n",
    "            if len(cons['Condition']) != 0 or cons['Target'][0]['Name'] != one:\n",
    "                print(cons['Target'][0]['Name'], cons['Condition'])\n",
    "                tt = {}\n",
    "                tt['Target'] = cons['Target']\n",
    "                tt['Probability'] = cons['Probability']\n",
    "                #tt['Question'] = cons['Question']\n",
    "                tt['Condition'] = []\n",
    "                for cond in cons['Condition']:\n",
    "                    if cond['Name'] == 'City':\n",
    "                        continue\n",
    "                    tt['Condition'].append(cond)\n",
    "                ret['Constraints'].append(tt)\n",
    "            else:\n",
    "                print(\"here\")\n",
    "    return ret"
   ]
  },
  {
   "cell_type": "code",
   "execution_count": null,
   "metadata": {},
   "outputs": [],
   "source": []
  }
 ],
 "metadata": {
  "kernelspec": {
   "display_name": "dl",
   "language": "python",
   "name": "python3"
  },
  "language_info": {
   "codemirror_mode": {
    "name": "ipython",
    "version": 3
   },
   "file_extension": ".py",
   "mimetype": "text/x-python",
   "name": "python",
   "nbconvert_exporter": "python",
   "pygments_lexer": "ipython3",
   "version": "3.8.18"
  }
 },
 "nbformat": 4,
 "nbformat_minor": 2
}

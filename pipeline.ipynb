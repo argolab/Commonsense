{
 "cells": [
  {
   "cell_type": "code",
   "execution_count": 1,
   "metadata": {},
   "outputs": [],
   "source": [
    "from importlib import reload\n",
    "import mrf\n",
    "import AgentS1\n",
    "import AgentS2\n",
    "import utils\n",
    "import evaluate"
   ]
  },
  {
   "cell_type": "code",
   "execution_count": 45,
   "metadata": {},
   "outputs": [],
   "source": [
    "from pathlib import Path\n",
    "import json\n",
    "\n",
    "class RunAgents():\n",
    "    def __init__(self, question_schema, prompts, log_dir, city, model_dial, model_trans, chat_temp):\n",
    "        # check if log_dir exists, if not add\n",
    "\n",
    "        self.question_schema = question_schema\n",
    "        self.prompts = prompts\n",
    "        path = Path(log_dir)\n",
    "        path.mkdir(parents=True, exist_ok=True)\n",
    "\n",
    "        self.log_dir = log_dir\n",
    "        self.city = city\n",
    "        self.model_dial = model_dial\n",
    "        self.model_trans = model_trans\n",
    "        self.chat_temp = chat_temp\n",
    "\n",
    "    \n",
    "    def run_agents(self):\n",
    "        self.agents1 = AgentS1.AgentS1(self.prompts, self.question_schema, city=self.city, log_dir=self.log_dir, log_name='agents1.json', model_dial=self.model_dial, model_trans=self.model_trans, chat_temp=self.chat_temp)\n",
    "        \n",
    "        s1_schema = self.agents1.compile()\n",
    "\n",
    "        self.agents2 = AgentS2.AgentS2(self.prompts, s1_schema, city=self.city, log_dir=self.log_dir, log_name='agents2.json', model_dial=self.model_dial, model_trans=self.model_trans, chat_temp=self.chat_temp)\n",
    "\n",
    "        s2_schema = self.agents2.compile()\n",
    "\n",
    "        # save s2_schema\n",
    "        json.dump(s2_schema, open(f'{self.log_dir}/agents.json', 'w'), indent=4)\n",
    "\n",
    "        return s2_schema\n",
    "\n",
    "\n"
   ]
  },
  {
   "cell_type": "code",
   "execution_count": 105,
   "metadata": {},
   "outputs": [
    {
     "name": "stdout",
     "output_type": "stream",
     "text": [
      "Experiments4\n",
      "looking in  Experiments4/la2/agents2.json\n",
      "[{'Name': 'Number of Bathrooms', 'Value': ['0-1', '2', '3 or more']}, {'Name': 'Number of Beds', 'Value': ['0-1', '2-3', '4 or more']}, {'Name': 'Location', 'Value': ['Downtown', 'Beach Area', 'Suburbs']}, {'Name': 'Price', 'Value': ['$0-$50', '$51-$100', '$101-$200', '$201-$500', '$501 and above']}]\n",
      "looking in  Experiments4/la0/agents2.json\n",
      "[{'Name': 'Number of Bedrooms', 'Value': ['1 Bedroom', '2 Bedrooms', '3+ Bedrooms']}, {'Name': 'Host Experience', 'Value': ['0-1 Years', '1-5 Years', '5+ Years']}, {'Name': 'Superhost Status', 'Value': ['Yes', 'No']}, {'Name': 'Price', 'Value': ['$0-$50', '$51-$100', '$101-$200', '$201-$500', '$501 and above']}]\n",
      "looking in  Experiments4/la1/agents2.json\n",
      "[{'Name': 'Property Type', 'Value': ['Entire home/apartment', 'Private room', 'Shared room']}, {'Name': 'Number of Guests', 'Value': ['1-2 guests', '3-4 guests', '5+ guests']}, {'Name': 'Location', 'Value': ['Downtown', 'Beachfront', 'Suburban']}, {'Name': 'Price', 'Value': ['$0-$50', '$51-$100', '$101-$200', '$201-$500', '$501 and above']}]\n",
      "Evaluating la2\n",
      "{'Question': {'Target': [{'Name': 'Price'}], 'Condition': [{'Name': 'Number of Bathrooms', 'Value': ['3+ bathrooms']}, {'Name': 'Total Beds', 'Value': ['0/1 bed']}], 'Text': 'How much does an Airbnb listing in Los Angeles, CA with 3 or more bathrooms and 0/1 bed cost per night?'}, 'Variables': [{'Name': 'Number of Bathrooms', 'Value': ['0-1', '2', '3 or more']}, {'Name': 'Number of Beds', 'Value': ['0-1', '2-3', '4 or more']}, {'Name': 'Location', 'Value': ['Downtown', 'Beach Area', 'Suburbs']}, {'Name': 'Price', 'Value': ['$0-$50', '$51-$100', '$101-$200', '$201-$500', '$501 and above']}], 'Queries': [{'Target': [{'Name': 'Price'}], 'Condition': [{'Name': 'Number of Bathrooms', 'Value': ['3 or more']}, {'Name': 'Number of Beds', 'Value': ['0-1']}]}], 'Constraints': [{'Target': [{'Name': 'Location', 'Value': ['Downtown', 'Beach Area', 'Suburbs']}], 'Condition': [], 'Probability': [0.4, 0.35, 0.25]}, {'Target': [{'Name': 'Number of Beds', 'Value': ['0-1', '2-3', '4 or more']}], 'Condition': [], 'Probability': [0.5, 0.35, 0.15]}, {'Target': [{'Name': 'Number of Bathrooms', 'Value': ['0-1', '2', '3 or more']}], 'Condition': [], 'Probability': [0.5, 0.3, 0.2]}, {'Target': [{'Name': 'Price', 'Value': ['$0-$50', '$51-$100', '$101-$200', '$201-$500', '$501 and above']}], 'Condition': [], 'Probability': [0.05, 0.15, 0.35, 0.35, 0.1]}, {'Target': [{'Name': 'Number of Beds', 'Value': ['0-1', '2-3', '4 or more']}], 'Condition': [{'Name': 'Location', 'Value': ['Downtown'], 'Other': ['Beach Area', 'Suburbs']}], 'Probability': [0.5, 0.35, 0.15]}, {'Target': [{'Name': 'Number of Beds', 'Value': ['0-1', '2-3', '4 or more']}], 'Condition': [{'Name': 'Location', 'Value': ['Beach Area'], 'Other': ['Downtown', 'Suburbs']}], 'Probability': [0.4, 0.45, 0.15]}, {'Target': [{'Name': 'Number of Beds', 'Value': ['0-1', '2-3', '4 or more']}], 'Condition': [{'Name': 'Location', 'Value': ['Suburbs'], 'Other': ['Downtown', 'Beach Area']}], 'Probability': [0.2, 0.5, 0.3]}, {'Target': [{'Name': 'Number of Beds', 'Value': ['0-1', '2-3', '4 or more']}], 'Condition': [{'Name': 'Number of Bathrooms', 'Value': ['0-1'], 'Other': ['2', '3 or more']}], 'Probability': [0.6, 0.3, 0.1]}, {'Target': [{'Name': 'Number of Beds', 'Value': ['0-1', '2-3', '4 or more']}], 'Condition': [{'Name': 'Number of Bathrooms', 'Value': ['2'], 'Other': ['0-1', '3 or more']}], 'Probability': [0.1, 0.6, 0.3]}, {'Target': [{'Name': 'Number of Beds', 'Value': ['0-1', '2-3', '4 or more']}], 'Condition': [{'Name': 'Number of Bathrooms', 'Value': ['3 or more'], 'Other': ['0-1', '2']}], 'Probability': [0.1, 0.3, 0.6]}, {'Target': [{'Name': 'Price', 'Value': ['$0-$50', '$51-$100', '$101-$200', '$201-$500', '$501 and above']}], 'Condition': [{'Name': 'Number of Beds', 'Value': ['0-1'], 'Other': ['2-3', '4 or more']}], 'Probability': [0.05, 0.15, 0.4, 0.3, 0.1]}, {'Target': [{'Name': 'Price', 'Value': ['$0-$50', '$51-$100', '$101-$200', '$201-$500', '$501 and above']}], 'Condition': [{'Name': 'Number of Beds', 'Value': ['2-3'], 'Other': ['0-1', '4 or more']}], 'Probability': [0.05, 0.1, 0.3, 0.4, 0.15]}, {'Target': [{'Name': 'Price', 'Value': ['$0-$50', '$51-$100', '$101-$200', '$201-$500', '$501 and above']}], 'Condition': [{'Name': 'Number of Beds', 'Value': ['4 or more'], 'Other': ['0-1', '2-3']}], 'Probability': [0.01, 0.02, 0.07, 0.4, 0.5]}, {'Target': [{'Name': 'Price', 'Value': ['$0-$50', '$51-$100', '$101-$200', '$201-$500', '$501 and above']}], 'Condition': [{'Name': 'Location', 'Value': ['Downtown'], 'Other': ['Beach Area', 'Suburbs']}], 'Probability': [0.05, 0.15, 0.35, 0.35, 0.1]}, {'Target': [{'Name': 'Price', 'Value': ['$0-$50', '$51-$100', '$101-$200', '$201-$500', '$501 and above']}], 'Condition': [{'Name': 'Location', 'Value': ['Beach Area'], 'Other': ['Downtown', 'Suburbs']}], 'Probability': [0.05, 0.1, 0.3, 0.4, 0.15]}, {'Target': [{'Name': 'Price', 'Value': ['$0-$50', '$51-$100', '$101-$200', '$201-$500', '$501 and above']}], 'Condition': [{'Name': 'Location', 'Value': ['Suburbs'], 'Other': ['Downtown', 'Beach Area']}], 'Probability': [0.05, 0.15, 0.4, 0.3, 0.1]}, {'Target': [{'Name': 'Price', 'Value': ['$0-$50', '$51-$100', '$101-$200', '$201-$500', '$501 and above']}], 'Condition': [{'Name': 'Number of Bathrooms', 'Value': ['0-1'], 'Other': ['2', '3 or more']}], 'Probability': [0.05, 0.2, 0.4, 0.25, 0.1]}, {'Target': [{'Name': 'Price', 'Value': ['$0-$50', '$51-$100', '$101-$200', '$201-$500', '$501 and above']}], 'Condition': [{'Name': 'Number of Bathrooms', 'Value': ['2'], 'Other': ['0-1', '3 or more']}], 'Probability': [0.05, 0.1, 0.3, 0.4, 0.15]}, {'Target': [{'Name': 'Price', 'Value': ['$0-$50', '$51-$100', '$101-$200', '$201-$500', '$501 and above']}], 'Condition': [{'Name': 'Number of Bathrooms', 'Value': ['3 or more'], 'Other': ['0-1', '2']}], 'Probability': [0.01, 0.02, 0.12, 0.5, 0.35]}]}\n",
      "-----------------------------------------------\n",
      "Finished building\n",
      "Features:  78\n",
      "Constraints:  77\n",
      "-----------------------------------------------\n"
     ]
    },
    {
     "name": "stderr",
     "output_type": "stream",
     "text": [
      "Training Progress:   0%|          | 0/10000 [00:00<?, ?it/s]"
     ]
    },
    {
     "name": "stderr",
     "output_type": "stream",
     "text": [
      "Training Progress:   7%|▋         | 699/10000 [00:00<00:01, 6989.52it/s]"
     ]
    },
    {
     "name": "stdout",
     "output_type": "stream",
     "text": [
      "Loss:  tensor(4.6372, grad_fn=<SumBackward0>) torch.return_types.topk(\n",
      "values=tensor([0.6846, 0.5706, 0.5675, 0.5372, 0.4319], grad_fn=<TopkBackward0>),\n",
      "indices=tensor([32, 47, 22, 72, 25]))\n"
     ]
    },
    {
     "name": "stderr",
     "output_type": "stream",
     "text": [
      "Training Progress:  32%|███▏      | 3151/10000 [00:00<00:00, 8014.81it/s]"
     ]
    },
    {
     "name": "stdout",
     "output_type": "stream",
     "text": [
      "Loss:  tensor(0.0518, grad_fn=<SumBackward0>) torch.return_types.topk(\n",
      "values=tensor([0.0504, 0.0496, 0.0486, 0.0484, 0.0450], grad_fn=<TopkBackward0>),\n",
      "indices=tensor([ 4, 13, 51,  6, 23]))\n"
     ]
    },
    {
     "name": "stderr",
     "output_type": "stream",
     "text": [
      "Training Progress:  56%|█████▌    | 5576/10000 [00:00<00:00, 8063.60it/s]"
     ]
    },
    {
     "name": "stdout",
     "output_type": "stream",
     "text": [
      "Loss:  tensor(0.0469, grad_fn=<SumBackward0>) torch.return_types.topk(\n",
      "values=tensor([0.0498, 0.0496, 0.0487, 0.0445, 0.0412], grad_fn=<TopkBackward0>),\n",
      "indices=tensor([ 4, 13,  6, 23,  5]))\n"
     ]
    },
    {
     "name": "stderr",
     "output_type": "stream",
     "text": [
      "Training Progress:  64%|██████▍   | 6383/10000 [00:00<00:00, 7862.43it/s]"
     ]
    },
    {
     "name": "stdout",
     "output_type": "stream",
     "text": [
      "Loss:  tensor(0.0465, grad_fn=<SumBackward0>) torch.return_types.topk(\n",
      "values=tensor([0.0499, 0.0495, 0.0489, 0.0454, 0.0409], grad_fn=<TopkBackward0>),\n",
      "indices=tensor([ 4, 13,  6, 23,  5]))\n"
     ]
    },
    {
     "name": "stderr",
     "output_type": "stream",
     "text": [
      "Training Progress:  96%|█████████▌| 9583/10000 [00:01<00:00, 7564.21it/s]"
     ]
    },
    {
     "name": "stdout",
     "output_type": "stream",
     "text": [
      "Loss:  tensor(0.0464, grad_fn=<SumBackward0>) torch.return_types.topk(\n",
      "values=tensor([0.0500, 0.0494, 0.0489, 0.0459, 0.0408], grad_fn=<TopkBackward0>),\n",
      "indices=tensor([ 4, 13,  6, 23,  5]))\n"
     ]
    },
    {
     "name": "stderr",
     "output_type": "stream",
     "text": [
      "Training Progress: 100%|██████████| 10000/10000 [00:01<00:00, 7452.45it/s]\n"
     ]
    },
    {
     "name": "stdout",
     "output_type": "stream",
     "text": [
      "Loss:  tensor(0.0464, grad_fn=<SumBackward0>) torch.return_types.topk(\n",
      "values=tensor([0.0500, 0.0493, 0.0489, 0.0462, 0.0407], grad_fn=<TopkBackward0>),\n",
      "indices=tensor([ 4, 13,  6, 23,  5]))\n",
      "Evaluating la0\n",
      "{'Question': {'Target': [{'Name': 'Price'}], 'Condition': [{'Name': 'Superhost', 'Value': ['Yes']}, {'Name': 'Number of Bedrooms', 'Value': ['2 bedrooms']}, {'Name': 'Host Experience', 'Value': ['1-5 years']}], 'Text': 'What is the price of an Airbnb listing in Los Angeles, CA with 2 bedrooms, hosted by a host with 1-5 years of experience, who is also a superhost?'}, 'Variables': [{'Name': 'Number of Bedrooms', 'Value': ['1 Bedroom', '2 Bedrooms', '3+ Bedrooms']}, {'Name': 'Host Experience', 'Value': ['0-1 Years', '1-5 Years', '5+ Years']}, {'Name': 'Superhost Status', 'Value': ['Yes', 'No']}, {'Name': 'Price', 'Value': ['$0-$50', '$51-$100', '$101-$200', '$201-$500', '$501 and above']}], 'Queries': [{'Target': [{'Name': 'Price'}], 'Condition': [{'Name': 'Number of Bedrooms', 'Value': ['2 Bedrooms']}, {'Name': 'Host Experience', 'Value': ['1-5 Years']}, {'Name': 'Superhost Status', 'Value': ['Yes']}]}], 'Constraints': [{'Target': [{'Name': 'Superhost Status', 'Value': ['Yes', 'No']}], 'Condition': [], 'Probability': [0.2, 0.8]}, {'Target': [{'Name': 'Host Experience', 'Value': ['0-1 Years', '1-5 Years', '5+ Years']}], 'Condition': [], 'Probability': [0.3, 0.5, 0.2]}, {'Target': [{'Name': 'Price', 'Value': ['$0-$50', '$51-$100', '$101-$200', '$201-$500', '$501 and above']}], 'Condition': [], 'Probability': [0.05, 0.1, 0.3, 0.4, 0.15]}, {'Target': [{'Name': 'Number of Bedrooms', 'Value': ['1 Bedroom', '2 Bedrooms', '3+ Bedrooms']}], 'Condition': [], 'Probability': [0.5, 0.3, 0.2]}, {'Target': [{'Name': 'Price', 'Value': ['$0-$50', '$51-$100', '$101-$200', '$201-$500', '$501 and above']}], 'Condition': [{'Name': 'Superhost Status', 'Value': ['Yes'], 'Other': ['No']}], 'Probability': [0.05, 0.1, 0.35, 0.4, 0.1]}, {'Target': [{'Name': 'Price', 'Value': ['$0-$50', '$51-$100', '$101-$200', '$201-$500', '$501 and above']}], 'Condition': [{'Name': 'Superhost Status', 'Value': ['No'], 'Other': ['Yes']}], 'Probability': [0.05, 0.2, 0.4, 0.3, 0.05]}, {'Target': [{'Name': 'Superhost Status', 'Value': ['Yes', 'No']}], 'Condition': [{'Name': 'Host Experience', 'Value': ['0-1 Years'], 'Other': ['1-5 Years', '5+ Years']}], 'Probability': [0.2, 0.8]}, {'Target': [{'Name': 'Superhost Status', 'Value': ['Yes', 'No']}], 'Condition': [{'Name': 'Host Experience', 'Value': ['1-5 Years'], 'Other': ['0-1 Years', '5+ Years']}], 'Probability': [0.25, 0.75]}, {'Target': [{'Name': 'Superhost Status', 'Value': ['Yes', 'No']}], 'Condition': [{'Name': 'Host Experience', 'Value': ['5+ Years'], 'Other': ['0-1 Years', '1-5 Years']}], 'Probability': [0.2, 0.8]}, {'Target': [{'Name': 'Superhost Status', 'Value': ['Yes', 'No']}], 'Condition': [{'Name': 'Number of Bedrooms', 'Value': ['1 Bedroom'], 'Other': ['2 Bedrooms', '3+ Bedrooms']}], 'Probability': [0.25, 0.75]}, {'Target': [{'Name': 'Superhost Status', 'Value': ['Yes', 'No']}], 'Condition': [{'Name': 'Number of Bedrooms', 'Value': ['2 Bedrooms'], 'Other': ['1 Bedroom', '3+ Bedrooms']}], 'Probability': [0.25, 0.75]}, {'Target': [{'Name': 'Superhost Status', 'Value': ['Yes', 'No']}], 'Condition': [{'Name': 'Number of Bedrooms', 'Value': ['3+ Bedrooms'], 'Other': ['1 Bedroom', '2 Bedrooms']}], 'Probability': [0.275, 0.725]}, {'Target': [{'Name': 'Price', 'Value': ['$0-$50', '$51-$100', '$101-$200', '$201-$500', '$501 and above']}], 'Condition': [{'Name': 'Number of Bedrooms', 'Value': ['1 Bedroom'], 'Other': ['2 Bedrooms', '3+ Bedrooms']}], 'Probability': [0.05, 0.15, 0.5, 0.25, 0.05]}, {'Target': [{'Name': 'Price', 'Value': ['$0-$50', '$51-$100', '$101-$200', '$201-$500', '$501 and above']}], 'Condition': [{'Name': 'Number of Bedrooms', 'Value': ['2 Bedrooms'], 'Other': ['1 Bedroom', '3+ Bedrooms']}], 'Probability': [0.01, 0.04, 0.15, 0.5, 0.3]}, {'Target': [{'Name': 'Price', 'Value': ['$0-$50', '$51-$100', '$101-$200', '$201-$500', '$501 and above']}], 'Condition': [{'Name': 'Number of Bedrooms', 'Value': ['3+ Bedrooms'], 'Other': ['1 Bedroom', '2 Bedrooms']}], 'Probability': [0.01, 0.04, 0.1, 0.35, 0.5]}, {'Target': [{'Name': 'Price', 'Value': ['$0-$50', '$51-$100', '$101-$200', '$201-$500', '$501 and above']}], 'Condition': [{'Name': 'Host Experience', 'Value': ['0-1 Years'], 'Other': ['1-5 Years', '5+ Years']}], 'Probability': [0.05, 0.25, 0.4, 0.25, 0.05]}, {'Target': [{'Name': 'Price', 'Value': ['$0-$50', '$51-$100', '$101-$200', '$201-$500', '$501 and above']}], 'Condition': [{'Name': 'Host Experience', 'Value': ['1-5 Years'], 'Other': ['0-1 Years', '5+ Years']}], 'Probability': [0.05, 0.2, 0.5, 0.2, 0.05]}, {'Target': [{'Name': 'Price', 'Value': ['$0-$50', '$51-$100', '$101-$200', '$201-$500', '$501 and above']}], 'Condition': [{'Name': 'Host Experience', 'Value': ['5+ Years'], 'Other': ['0-1 Years', '1-5 Years']}], 'Probability': [0.05, 0.1, 0.35, 0.4, 0.1]}]}\n",
      "-----------------------------------------------\n",
      "Finished building\n",
      "Features:  66\n",
      "Constraints:  65\n",
      "-----------------------------------------------\n"
     ]
    },
    {
     "name": "stderr",
     "output_type": "stream",
     "text": [
      "Training Progress:  17%|█▋        | 1737/10000 [00:00<00:00, 8728.84it/s]"
     ]
    },
    {
     "name": "stdout",
     "output_type": "stream",
     "text": [
      "Loss:  tensor(7.6916, grad_fn=<SumBackward0>) torch.return_types.topk(\n",
      "values=tensor([0.7022, 0.6444, 0.6437, 0.6427, 0.6208], grad_fn=<TopkBackward0>),\n",
      "indices=tensor([25, 27, 33,  0,  4]))\n"
     ]
    },
    {
     "name": "stderr",
     "output_type": "stream",
     "text": [
      "Training Progress:  35%|███▍      | 3480/10000 [00:00<00:00, 8664.22it/s]"
     ]
    },
    {
     "name": "stdout",
     "output_type": "stream",
     "text": [
      "Loss:  tensor(0.0966, grad_fn=<SumBackward0>) torch.return_types.topk(\n",
      "values=tensor([0.0963, 0.0833, 0.0794, 0.0753, 0.0641], grad_fn=<TopkBackward0>),\n",
      "indices=tensor([10, 59,  7, 22, 58]))\n"
     ]
    },
    {
     "name": "stderr",
     "output_type": "stream",
     "text": [
      "Training Progress:  52%|█████▏    | 5224/10000 [00:00<00:00, 8584.22it/s]"
     ]
    },
    {
     "name": "stdout",
     "output_type": "stream",
     "text": [
      "Loss:  tensor(0.0946, grad_fn=<SumBackward0>) torch.return_types.topk(\n",
      "values=tensor([0.0960, 0.0820, 0.0794, 0.0743, 0.0642], grad_fn=<TopkBackward0>),\n",
      "indices=tensor([10, 59,  7, 22, 58]))\n"
     ]
    },
    {
     "name": "stderr",
     "output_type": "stream",
     "text": [
      "Training Progress:  70%|██████▉   | 6973/10000 [00:00<00:00, 8673.71it/s]"
     ]
    },
    {
     "name": "stdout",
     "output_type": "stream",
     "text": [
      "Loss:  tensor(0.0940, grad_fn=<SumBackward0>) torch.return_types.topk(\n",
      "values=tensor([0.0958, 0.0817, 0.0794, 0.0742, 0.0644], grad_fn=<TopkBackward0>),\n",
      "indices=tensor([10, 59,  7, 22, 58]))\n"
     ]
    },
    {
     "name": "stderr",
     "output_type": "stream",
     "text": [
      "Training Progress:  96%|█████████▌| 9623/10000 [00:01<00:00, 8664.93it/s]"
     ]
    },
    {
     "name": "stdout",
     "output_type": "stream",
     "text": [
      "Loss:  tensor(0.0937, grad_fn=<SumBackward0>) torch.return_types.topk(\n",
      "values=tensor([0.0957, 0.0816, 0.0794, 0.0740, 0.0644], grad_fn=<TopkBackward0>),\n",
      "indices=tensor([10, 59,  7, 22, 58]))\n"
     ]
    },
    {
     "name": "stderr",
     "output_type": "stream",
     "text": [
      "Training Progress: 100%|██████████| 10000/10000 [00:01<00:00, 8624.43it/s]\n"
     ]
    },
    {
     "name": "stdout",
     "output_type": "stream",
     "text": [
      "Loss:  tensor(0.0936, grad_fn=<SumBackward0>) torch.return_types.topk(\n",
      "values=tensor([0.0957, 0.0814, 0.0794, 0.0739, 0.0645], grad_fn=<TopkBackward0>),\n",
      "indices=tensor([10, 59,  7, 22, 58]))\n",
      "Evaluating la1\n",
      "{'Question': {'Target': [{'Name': 'Price'}], 'Condition': [{'Name': 'Max Accommodates', 'Value': ['3']}, {'Name': 'Room Type', 'Value': ['Entire home/apt']}], 'Text': 'What is the price of renting an entire home or apartment in Los Angeles, CA that can accommodate up to 3 people?'}, 'Variables': [{'Name': 'Property Type', 'Value': ['Entire home/apartment', 'Private room', 'Shared room']}, {'Name': 'Number of Guests', 'Value': ['1-2 guests', '3-4 guests', '5+ guests']}, {'Name': 'Location', 'Value': ['Downtown', 'Beachfront', 'Suburban']}, {'Name': 'Price', 'Value': ['$0-$50', '$51-$100', '$101-$200', '$201-$500', '$501 and above']}], 'Queries': [{'Target': [{'Name': 'Price'}], 'Condition': [{'Name': 'Property Type', 'Value': ['Entire home/apartment']}, {'Name': 'Number of Guests', 'Value': ['1-2 guests', '3-4 guests']}]}], 'Constraints': [{'Target': [{'Name': 'Location', 'Value': ['Downtown', 'Beachfront', 'Suburban']}], 'Condition': [], 'Probability': [0.4, 0.35, 0.25]}, {'Target': [{'Name': 'Property Type', 'Value': ['Entire home/apartment', 'Private room', 'Shared room']}], 'Condition': [], 'Probability': [0.6, 0.35, 0.05]}, {'Target': [{'Name': 'Price', 'Value': ['$0-$50', '$51-$100', '$101-$200', '$201-$500', '$501 and above']}], 'Condition': [], 'Probability': [0.05, 0.15, 0.35, 0.35, 0.1]}, {'Target': [{'Name': 'Number of Guests', 'Value': ['1-2 guests', '3-4 guests', '5+ guests']}], 'Condition': [], 'Probability': [0.6, 0.3, 0.1]}, {'Target': [{'Name': 'Number of Guests', 'Value': ['1-2 guests', '3-4 guests', '5+ guests']}], 'Condition': [{'Name': 'Property Type', 'Value': ['Entire home/apartment'], 'Other': ['Private room', 'Shared room']}], 'Probability': [0.5, 0.3, 0.2]}, {'Target': [{'Name': 'Number of Guests', 'Value': ['1-2 guests', '3-4 guests', '5+ guests']}], 'Condition': [{'Name': 'Property Type', 'Value': ['Private room'], 'Other': ['Entire home/apartment', 'Shared room']}], 'Probability': [0.7, 0.25, 0.05]}, {'Target': [{'Name': 'Number of Guests', 'Value': ['1-2 guests', '3-4 guests', '5+ guests']}], 'Condition': [{'Name': 'Property Type', 'Value': ['Shared room'], 'Other': ['Entire home/apartment', 'Private room']}], 'Probability': [0.7, 0.25, 0.05]}, {'Target': [{'Name': 'Property Type', 'Value': ['Entire home/apartment', 'Private room', 'Shared room']}], 'Condition': [{'Name': 'Location', 'Value': ['Downtown'], 'Other': ['Beachfront', 'Suburban']}], 'Probability': [0.6, 0.35, 0.05]}, {'Target': [{'Name': 'Property Type', 'Value': ['Entire home/apartment', 'Private room', 'Shared room']}], 'Condition': [{'Name': 'Location', 'Value': ['Beachfront'], 'Other': ['Downtown', 'Suburban']}], 'Probability': [0.7, 0.25, 0.05]}, {'Target': [{'Name': 'Property Type', 'Value': ['Entire home/apartment', 'Private room', 'Shared room']}], 'Condition': [{'Name': 'Location', 'Value': ['Suburban'], 'Other': ['Downtown', 'Beachfront']}], 'Probability': [0.6, 0.35, 0.05]}, {'Target': [{'Name': 'Price', 'Value': ['$0-$50', '$51-$100', '$101-$200', '$201-$500', '$501 and above']}], 'Condition': [{'Name': 'Number of Guests', 'Value': ['1-2 guests'], 'Other': ['3-4 guests', '5+ guests']}], 'Probability': [0.05, 0.2, 0.4, 0.3, 0.05]}, {'Target': [{'Name': 'Price', 'Value': ['$0-$50', '$51-$100', '$101-$200', '$201-$500', '$501 and above']}], 'Condition': [{'Name': 'Number of Guests', 'Value': ['3-4 guests'], 'Other': ['1-2 guests', '5+ guests']}], 'Probability': [0.05, 0.1, 0.35, 0.4, 0.1]}, {'Target': [{'Name': 'Price', 'Value': ['$0-$50', '$51-$100', '$101-$200', '$201-$500', '$501 and above']}], 'Condition': [{'Name': 'Number of Guests', 'Value': ['5+ guests'], 'Other': ['1-2 guests', '3-4 guests']}], 'Probability': [0.01, 0.04, 0.15, 0.5, 0.3]}, {'Target': [{'Name': 'Price', 'Value': ['$0-$50', '$51-$100', '$101-$200', '$201-$500', '$501 and above']}], 'Condition': [{'Name': 'Location', 'Value': ['Downtown'], 'Other': ['Beachfront', 'Suburban']}], 'Probability': [0.05, 0.1, 0.3, 0.4, 0.15]}, {'Target': [{'Name': 'Price', 'Value': ['$0-$50', '$51-$100', '$101-$200', '$201-$500', '$501 and above']}], 'Condition': [{'Name': 'Location', 'Value': ['Beachfront'], 'Other': ['Downtown', 'Suburban']}], 'Probability': [0.01, 0.04, 0.15, 0.5, 0.3]}, {'Target': [{'Name': 'Price', 'Value': ['$0-$50', '$51-$100', '$101-$200', '$201-$500', '$501 and above']}], 'Condition': [{'Name': 'Location', 'Value': ['Suburban'], 'Other': ['Downtown', 'Beachfront']}], 'Probability': [0.05, 0.15, 0.4, 0.3, 0.1]}, {'Target': [{'Name': 'Price', 'Value': ['$0-$50', '$51-$100', '$101-$200', '$201-$500', '$501 and above']}], 'Condition': [{'Name': 'Property Type', 'Value': ['Entire home/apartment'], 'Other': ['Private room', 'Shared room']}], 'Probability': [0.05, 0.1, 0.35, 0.4, 0.1]}, {'Target': [{'Name': 'Price', 'Value': ['$0-$50', '$51-$100', '$101-$200', '$201-$500', '$501 and above']}], 'Condition': [{'Name': 'Property Type', 'Value': ['Private room'], 'Other': ['Entire home/apartment', 'Shared room']}], 'Probability': [0.05, 0.2, 0.4, 0.3, 0.05]}, {'Target': [{'Name': 'Price', 'Value': ['$0-$50', '$51-$100', '$101-$200', '$201-$500', '$501 and above']}], 'Condition': [{'Name': 'Property Type', 'Value': ['Shared room'], 'Other': ['Entire home/apartment', 'Private room']}], 'Probability': [0.4, 0.35, 0.15, 0.08, 0.02]}]}\n",
      "-----------------------------------------------\n",
      "Finished building\n",
      "Features:  78\n",
      "Constraints:  77\n",
      "-----------------------------------------------\n"
     ]
    },
    {
     "name": "stderr",
     "output_type": "stream",
     "text": [
      "Training Progress:   0%|          | 0/10000 [00:00<?, ?it/s]"
     ]
    },
    {
     "name": "stdout",
     "output_type": "stream",
     "text": [
      "Loss:  tensor(11.8551, grad_fn=<SumBackward0>) torch.return_types.topk(\n",
      "values=tensor([0.9282, 0.9088, 0.8888, 0.8629, 0.8621], grad_fn=<TopkBackward0>),\n",
      "indices=tensor([32, 67, 52, 47,  6]))\n"
     ]
    },
    {
     "name": "stderr",
     "output_type": "stream",
     "text": [
      "Training Progress:  32%|███▏      | 3156/10000 [00:00<00:00, 8000.80it/s]"
     ]
    },
    {
     "name": "stdout",
     "output_type": "stream",
     "text": [
      "Loss:  tensor(0.0873, grad_fn=<SumBackward0>) torch.return_types.topk(\n",
      "values=tensor([0.0892, 0.0660, 0.0623, 0.0618, 0.0608], grad_fn=<TopkBackward0>),\n",
      "indices=tensor([49, 59, 66,  2, 53]))\n"
     ]
    },
    {
     "name": "stderr",
     "output_type": "stream",
     "text": [
      "Training Progress:  56%|█████▌    | 5566/10000 [00:00<00:00, 7937.82it/s]"
     ]
    },
    {
     "name": "stdout",
     "output_type": "stream",
     "text": [
      "Loss:  tensor(0.0451, grad_fn=<SumBackward0>) torch.return_types.topk(\n",
      "values=tensor([0.0564, 0.0549, 0.0410, 0.0407, 0.0391], grad_fn=<TopkBackward0>),\n",
      "indices=tensor([49, 66, 59,  2, 48]))\n"
     ]
    },
    {
     "name": "stderr",
     "output_type": "stream",
     "text": [
      "Training Progress:  71%|███████▏  | 7149/10000 [00:00<00:00, 7857.40it/s]"
     ]
    },
    {
     "name": "stdout",
     "output_type": "stream",
     "text": [
      "Loss:  tensor(0.0442, grad_fn=<SumBackward0>) torch.return_types.topk(\n",
      "values=tensor([0.0553, 0.0547, 0.0410, 0.0404, 0.0392], grad_fn=<TopkBackward0>),\n",
      "indices=tensor([49, 66,  2, 48, 59]))\n"
     ]
    },
    {
     "name": "stderr",
     "output_type": "stream",
     "text": [
      "Training Progress:  96%|█████████▌| 9604/10000 [00:01<00:00, 8080.86it/s]"
     ]
    },
    {
     "name": "stdout",
     "output_type": "stream",
     "text": [
      "Loss:  tensor(0.0436, grad_fn=<SumBackward0>) torch.return_types.topk(\n",
      "values=tensor([0.0548, 0.0544, 0.0412, 0.0400, 0.0387], grad_fn=<TopkBackward0>),\n",
      "indices=tensor([49, 66,  2, 48, 59]))\n"
     ]
    },
    {
     "name": "stderr",
     "output_type": "stream",
     "text": [
      "Training Progress: 100%|██████████| 10000/10000 [00:01<00:00, 7924.43it/s]\n"
     ]
    },
    {
     "name": "stdout",
     "output_type": "stream",
     "text": [
      "Loss:  tensor(0.0433, grad_fn=<SumBackward0>) torch.return_types.topk(\n",
      "values=tensor([0.0544, 0.0541, 0.0412, 0.0398, 0.0384], grad_fn=<TopkBackward0>),\n",
      "indices=tensor([49, 66,  2, 48, 59]))\n",
      "Evaluating la2\n",
      "Evaluating la0\n",
      "Evaluating la1\n",
      "----  --------------------------  -------------------------------  -------------------------------  --------------------------  --------  -------  -------\n",
      "City  Zero Shot                   Ground                           MRF                              CoT                         Zero TVD  MRF TVD  CoT TVD\n",
      "la2   [0.   0.   0.05 0.35 0.6 ]  [0.437 0.325 0.056 0.056 0.127]  [0.021 0.033 0.27  0.619 0.058]  [0.01 0.02 0.1  0.5  0.37]  0.767     0.777    0.731\n",
      "la0   [0.01 0.05 0.2  0.6  0.14]  [0.001 0.037 0.487 0.439 0.036]  [0.024 0.042 0.168 0.533 0.232]  [0.01 0.05 0.2  0.6  0.14]  0.287     0.318    0.287\n",
      "la1   [0.01 0.05 0.3  0.5  0.14]  [0.007 0.222 0.586 0.173 0.011]  [0.028 0.099 0.357 0.401 0.115]  [0.01 0.04 0.2  0.5  0.25]  0.458     0.353    0.568\n",
      "----  --------------------------  -------------------------------  -------------------------------  --------------------------  --------  -------  -------\n"
     ]
    }
   ],
   "source": [
    "import datetime\n",
    "import warnings\n",
    "warnings.simplefilter(action='ignore', category=FutureWarning)\n",
    "from tabulate import tabulate\n",
    "import numpy as np\n",
    "import torch\n",
    "reload(mrf)\n",
    "reload(AgentS1)\n",
    "reload(AgentS2)\n",
    "reload(utils)\n",
    "reload(evaluate)\n",
    "\n",
    "class evaluation_suite():\n",
    "    def __init__(self, question_folder, identifier='', log_dir='./Experiments', prompts='./data/prompts_13.json', model_dial='gpt-4o', model_trans='gpt-3.5', chat_temp=0.3, data_folder='./data/'):\n",
    "\n",
    "        self.question_folder = question_folder\n",
    "        if identifier == '':\n",
    "            self.identifier = str(datetime.datetime.now().strftime('%m%d_%H%M'))\n",
    "        else:\n",
    "            self.identifier = identifier\n",
    "\n",
    "        self.prompts = prompts\n",
    "\n",
    "        self.log_dir = log_dir\n",
    "\n",
    "        self.model_dial = model_dial\n",
    "        self.model_trans = model_trans\n",
    "        self.chat_temp = chat_temp\n",
    "        self.data_folder = data_folder\n",
    "\n",
    "        self.agent_records = {}\n",
    "        self.exp_records = {}\n",
    "\n",
    "\n",
    "\n",
    "    def run_agent(self, ):\n",
    "\n",
    "        # load questions from folder\n",
    "        question_folder = Path(self.question_folder)\n",
    "        question_files = list(question_folder.glob('*.json'))\n",
    "        for question in question_files:\n",
    "            question_schema = json.load(open(question))\n",
    "\n",
    "            city = question_schema['City']\n",
    "            question_schema.pop('City')\n",
    "            # remove state after \", \"\n",
    "            question_name = city.split(',')[0].replace(' ', '')\n",
    "\n",
    "            run_agents = RunAgents(question_schema=question_schema, prompts=self.prompts, log_dir=self.log_dir+f'/{question.stem}', city=city, model_dial=self.model_dial, model_trans=self.model_trans, chat_temp=self.chat_temp)\n",
    "\n",
    "            s2_schema_records = run_agents.run_agents()\n",
    "\n",
    "            self.agent_records[question.stem] = s2_schema_records\n",
    "            \n",
    "\n",
    "    def load_experiments(self, ):\n",
    "        # load experiments *_schema.json\n",
    "        logdir = Path(self.log_dir)\n",
    "        # get all folders under question folder, not files\n",
    "        logdirs = [x for x in logdir.iterdir() if x.is_dir() and '.' not in x.stem]\n",
    "        print(str(logdir))\n",
    "        for question in logdirs:\n",
    "            print(\"looking in \", str(question) + '/agents2.json')\n",
    "            question_name = question.stem\n",
    "            schema = json.load(open(f'{question}/agents2.json'))\n",
    "            self.agent_records[question_name] = schema\n",
    "            print(schema['schema']['Variables'])\n",
    "\n",
    "\n",
    "    def optimize_mrf(self, w0=0, update_iter=50000):\n",
    "\n",
    "        for question, schema in self.agent_records.items():\n",
    "            print(f'Evaluating {question}')\n",
    "            print(schema['schema'])\n",
    "            mrf_obj = mrf.Brute(verbose=True)\n",
    "            #tmp = schema['schema'].copy()\n",
    "            #tmp = remove_vars(tmp, [], one='Price')\n",
    "            mrf_obj.from_json(schema['schema'])\n",
    "            #print(schema['schema']['Constraints'])\n",
    "            #mrf_obj.from_json(tmp)\n",
    "            if w0 != 0:\n",
    "                mrf_obj.set_w0(w0)\n",
    "            mrf_obj.update(update_iter, slack=False)\n",
    "\n",
    "            # save model to same directory\n",
    "            torch.save(mrf_obj, f'{self.log_dir}/{question}/ent{str(w0)}.pt')\n",
    "        \n",
    "\n",
    "    def get_results(self, w0=0, ):\n",
    "        \n",
    "        for question, schema in self.agent_records.items():\n",
    "\n",
    "            print(f'Evaluating {question}')\n",
    "            try:\n",
    "                mrf_obj = torch.load(f'{self.log_dir}/{question}/ent{str(w0)}.pt')\n",
    "                mrf_result = mrf_obj.query(schema['schema'])\n",
    "            except:\n",
    "                mrf_result = 0\n",
    "            zero_result = schema['zero shot']['result']['Probability']\n",
    "            if 'cot' not in schema:\n",
    "                cot_result = zero_result\n",
    "            else:\n",
    "                cot_result = schema['cot']['result']['Probability']\n",
    "            # data folder\n",
    "            dat_path = Path(self.data_folder + '/' + schema['city'].split(',')[0].replace(\" \", \"\") + '.csv')\n",
    "            data = utils.DatasetQ(dat_path)\n",
    "            ground_truth = data.marg(schema['schema']['Question'])\n",
    "            self.exp_records[question] = {'mrf': mrf_result, 'zero_shot': zero_result, 'cot': cot_result, 'ground_truth': ground_truth}\n",
    "            \n",
    "            json.dump(self.exp_records[question], open(f'{self.log_dir}/{question}/run_results{str(w0)}.json', 'w'), indent=4)\n",
    "\n",
    "\n",
    "\n",
    "    def evaluate(self,):\n",
    "\n",
    "        table = [[\"City\", \"Zero Shot\", \"Ground\", \"MRF\", \"CoT\", \"Zero TVD\", \"MRF TVD\", \"CoT TVD\"]]\n",
    "\n",
    "        for city, results in self.exp_records.items():\n",
    "            tmp = []\n",
    "            #print(results)\n",
    "            mrf_ground = evaluate.total_variation_distance(results['ground_truth'], results['mrf'])\n",
    "            zero_shot_ground = evaluate.total_variation_distance(results['ground_truth'], results['zero_shot'])\n",
    "            cot_ground = evaluate.total_variation_distance(results['ground_truth'], results['cot'])\n",
    "            tmp.append(city)\n",
    "            tmp.append(np.array(results['zero_shot']).round(3))\n",
    "            tmp.append(np.array(results['ground_truth']).round(3))\n",
    "            tmp.append(np.array(results['mrf']).round(3))\n",
    "            tmp.append(np.array(results['cot']).round(3))\n",
    "            #tmp.append((mrf_ground - zero_shot_ground).round(3))\n",
    "            tmp.append(zero_shot_ground.round(3))\n",
    "            tmp.append(mrf_ground.round(3))\n",
    "            tmp.append(cot_ground.round(3))\n",
    "            table.append(tmp)\n",
    "\n",
    "        print(tabulate(table))\n",
    "        return table\n",
    "\n",
    "\n",
    "test = evaluation_suite(question_folder='./Testing', identifier='test', log_dir='./Experiments4', prompts='./data/prompts_13.json', model_dial='gpt-4o', model_trans='gpt-3.5-turbo', chat_temp=0)\n",
    "\n",
    "\n",
    "\"\"\"\n",
    "# How to use\n",
    "question_folder: folder with json question files. If you run this script only to get one run on one city, separate the questions so question_folder is './Questions/BrowardCounty' and your question file like './Questions/BrowardCounty/question.json', no restriction on the file name\n",
    "\n",
    "\n",
    "identifier: ignore this\n",
    "\n",
    "\n",
    "log_dir: directory to save results. Similarly if one run one city, set log_dir to './Experiments/run_1'. Script will create and populate folder './Experiments/run_1/BrowardCounty'\n",
    "\n",
    "\n",
    "prompts: fixed path to the prompts file, it contains all prompts needed\n",
    "\n",
    "\n",
    "\n",
    "data_folder: fixed path to the data folder. if set to './data/', will look for csv './data/BrowardCounty.csv'\n",
    "\n",
    "\n",
    "the rest are intuitive\n",
    "\"\"\"\n",
    "\n",
    "\n",
    "\n",
    "# This will iterate over all questions, one in this case, including cot and zero shot, and save the results in the log_dir/cityname/ folder\n",
    "#test.run_agent()\n",
    "\n",
    "\n",
    "# load the saved experiment files that resulted from the previous step\n",
    "test.load_experiments()\n",
    "\n",
    "\n",
    "# this will optimize the MRF model, w0=0 will be faster, automatically save the model to the same folder log_dir/cityname/\n",
    "test.optimize_mrf(w0=0, update_iter=10000)\n",
    "\n",
    "\n",
    "\n",
    "# get results, this only attempts to load mrf from local. If it doesn't exist, it will record other results and dump in log_dir/cityname/\n",
    "test.get_results(w0=0)\n",
    "\n",
    "\n",
    "\n",
    "# this will print the tabulate\n",
    "ret = test.evaluate()\n"
   ]
  },
  {
   "cell_type": "code",
   "execution_count": null,
   "metadata": {},
   "outputs": [],
   "source": [
    "LosAngeles  [0.  0.  0.1 0.8 0.1]  [0.001 0.037 0.487 0.439 0.036]  [0.063 0.089 0.232 0.469 0.147]  [0.01 0.04 0.2  0.55 0.2 ]  0.425     0.255    0.287"
   ]
  },
  {
   "cell_type": "code",
   "execution_count": 24,
   "metadata": {},
   "outputs": [],
   "source": [
    "def remove_vars(constraints, vars, one=''):\n",
    "    ret = {}\n",
    "    ret['Variables'] = []\n",
    "    ret['Constraints'] = []\n",
    "    check = set()\n",
    "    for var in constraints['Variables']:\n",
    "        if var['Name'] not in vars:\n",
    "            ret['Variables'].append(var)\n",
    "    for cons in constraints['Constraints']:\n",
    "        if cons is None:\n",
    "            print(\"None\")\n",
    "            continue\n",
    "        if cons['Target'][0]['Name'] not in vars and (len(cons['Condition']) == 0 or (cons['Condition'][0]['Name'] not in vars)):\n",
    "            if len(cons['Condition']) != 0 or cons['Target'][0]['Name'] != one:\n",
    "                print(cons['Target'][0]['Name'], cons['Condition'])\n",
    "                tt = {}\n",
    "                tt['Target'] = cons['Target']\n",
    "                tt['Probability'] = cons['Probability']\n",
    "                #tt['Question'] = cons['Question']\n",
    "                tt['Condition'] = []\n",
    "                for cond in cons['Condition']:\n",
    "                    if cond['Name'] == 'City':\n",
    "                        continue\n",
    "                    tt['Condition'].append(cond)\n",
    "                ret['Constraints'].append(tt)\n",
    "            else:\n",
    "                print(\"here\")\n",
    "    return ret"
   ]
  },
  {
   "cell_type": "code",
   "execution_count": null,
   "metadata": {},
   "outputs": [],
   "source": []
  }
 ],
 "metadata": {
  "kernelspec": {
   "display_name": "dl",
   "language": "python",
   "name": "python3"
  },
  "language_info": {
   "codemirror_mode": {
    "name": "ipython",
    "version": 3
   },
   "file_extension": ".py",
   "mimetype": "text/x-python",
   "name": "python",
   "nbconvert_exporter": "python",
   "pygments_lexer": "ipython3",
   "version": "3.8.18"
  }
 },
 "nbformat": 4,
 "nbformat_minor": 2
}

{
 "cells": [
  {
   "cell_type": "code",
   "execution_count": 3,
   "metadata": {},
   "outputs": [],
   "source": [
    "import pandas as pd\n",
    "import numpy as np"
   ]
  },
  {
   "cell_type": "code",
   "execution_count": 3,
   "metadata": {},
   "outputs": [],
   "source": [
    "dat = pd.read_csv('./parsed_data/data_parsed/train/Nashville')"
   ]
  },
  {
   "cell_type": "code",
   "execution_count": 4,
   "metadata": {},
   "outputs": [
    {
     "data": {
      "text/plain": [
       "0.05345129741647352"
      ]
     },
     "execution_count": 4,
     "metadata": {},
     "output_type": "execute_result"
    }
   ],
   "source": [
    "(dat['review_scores_rating'] < 4.4).mean()"
   ]
  },
  {
   "cell_type": "code",
   "execution_count": 5,
   "metadata": {},
   "outputs": [],
   "source": [
    "dat = pd.read_json('./parsed_data/data_stats/train.json')"
   ]
  },
  {
   "cell_type": "code",
   "execution_count": 6,
   "metadata": {},
   "outputs": [
    {
     "name": "stdout",
     "output_type": "stream",
     "text": [
      "nan 0.0\n",
      "0/1 bedroom 0.29443521594684385\n",
      "3 bedrooms 0.10465116279069768\n",
      "2 bedrooms 0.13974252491694353\n",
      "4+ bedrooms 0.05170265780730897\n"
     ]
    }
   ],
   "source": [
    "import os\n",
    "folder = \"./bin0\"\n",
    "tar_folder = './parsed_data/data_parsed/train/'\n",
    "files = os.listdir(tar_folder)\n",
    "for file in files:\n",
    "    dat = pd.read_csv(tar_folder + file)\n",
    "    tmp = dat.drop(columns=['amenities', 'property_type'])\n",
    "    # cut bedrooms into 0/1 bedroom, 2 bedrooms, 3 bedrooms, 4+ bedrooms\n",
    "    #tmp['bedrooms'] = pd.cut(tmp['bedrooms'], bins=[-1, 1, 2, 3, 100], labels=[\"0/1 bedroom\", \"2 bedrooms\", \"3 bedrooms\", \"4+ bedrooms\"])\n",
    "    tmp['bedrooms'] = pd.cut(tmp['bedrooms'], bins=[0, 1, 2, 3, 10000], labels=[\"0/1 bedroom\", \"2 bedrooms\", \"3 bedrooms\", \"4+ bedrooms\"])\n",
    "    for unique in tmp['bedrooms'].unique():\n",
    "        print(unique, (tmp['bedrooms'] == unique).mean())\n",
    "    break\n",
    "    "
   ]
  },
  {
   "cell_type": "code",
   "execution_count": 7,
   "metadata": {},
   "outputs": [],
   "source": [
    "files\n",
    "original_name = ['Rochester','Newark','Columbus','BrowardCounty','SanDiego','Cambridge','SantaClaraCounty','ClarkCounty','Dallas','LosAngeles','Salem','SanMateoCounty','Denver','JerseyCity','FortWorth','Oakland','Nashville']\n",
    "map_name = ['Rochester, NY', 'Newark, NJ', 'Columbus, OH', 'Broward County, FL', 'San Diego, CA', 'Cambridge, MA', 'Santa Clara County, CA', 'Clark County, NV', 'Dallas, TX', 'Los Angeles, CA', 'Salem, OR', 'San Mateo County, CA', 'Denver, CO', 'Jersey City, NJ', 'Fort Worth, TX', 'Oakland, CA', 'Nashville, TN']\n",
    "\n",
    "map = {}\n",
    "for i in range(len(original_name)):\n",
    "    map[original_name[i]] = map_name[i]"
   ]
  },
  {
   "cell_type": "code",
   "execution_count": 8,
   "metadata": {},
   "outputs": [],
   "source": [
    "import json\n",
    "dic = {}\n",
    "vars = []\n",
    "br = {\"Name\": \"Number of Bedrooms\", \"Value\": [\"0/1 bedroom\", \"2 bedrooms\", \"3 bedrooms\", \"4+ bedrooms\"]}\n",
    "vars.append(br)\n",
    "bath = {\"Name\": \"Number of Bathrooms\", \"Value\": [\"0/1 bathroom\", \"2 bathrooms\", \"3+ bathrooms\"]}\n",
    "vars.append(bath)\n",
    "host_since = {\"Name\": \"Host Experience\", \"Value\": [\"<1 year\", \"1-5 years\", \"5-10 years\", \"10+ years\"]}\n",
    "vars.append(host_since)\n",
    "superhost = {\"Name\": \"Superhost\", \"Value\": [\"Yes\", \"No\"]}\n",
    "vars.append(superhost)\n",
    "rt = {\"Name\": \"Room Type\", \"Value\": [\"Entire home/apt\", \"Private room\", \"Shared/Hotel room\"]}\n",
    "vars.append(rt)\n",
    "beds = {\"Name\": \"Total Beds\", \"Value\": [\"0/1 bed\", \"2 beds\", \"3 beds\", \"4+ beds\"]}\n",
    "vars.append(beds)\n",
    "review = {\"Name\": \"Review Score\", \"Value\": [\"<4.3\", \"4.3-4.8\", \"4.9+\"]}\n",
    "vars.append(review)\n",
    "month  = {\"Name\": \"Month\", \"Value\": [\"Jan-Apr\", \"May-Aug\", \"Sep-Dec\"]}\n",
    "vars.append(month)\n",
    "acc = {\"Name\": \"Max Accommodates\", \"Value\": [\"1\", \"2\", \"3\", \"4\", \"4+\"]}\n",
    "vars.append(acc)\n",
    "price = {\"Name\": \"Price\", \"Value\": [\"<$50\", \"$51-$100\", \"$101-$200\", \"$201-$500\", \"$500+\"]}\n",
    "vars.append(price)\n",
    "dic[\"Variables\"] = vars\n",
    "\n"
   ]
  },
  {
   "cell_type": "code",
   "execution_count": 17,
   "metadata": {},
   "outputs": [
    {
     "name": "stdout",
     "output_type": "stream",
     "text": [
      "0.0 Rochester 4710\n",
      "0.0 Newark 4890\n",
      "0.0 Columbus 7566\n",
      "0.0 BrowardCounty 53873\n",
      "0.0 SanDiego 48661\n",
      "0.0 Cambridge 3245\n",
      "0.0 SantaClaraCounty 20433\n",
      "0.0 ClarkCounty 62321\n",
      "0.0 Dallas 58019\n",
      "0.0 LosAngeles 178951\n",
      "0.0 Salem 961\n",
      "0.0 SanMateoCounty 13737\n",
      "0.0 Denver 20566\n",
      "0.0 JerseyCity 5708\n",
      "0.0 FortWorth 7180\n",
      "0.0 Oakland 10217\n",
      "0.0 Nashville 35218\n"
     ]
    }
   ],
   "source": [
    "import os\n",
    "import json\n",
    "import random\n",
    "random.seed(0)\n",
    "\n",
    "\n",
    "folder = \"./Dataset/bin5_newname\"\n",
    "tar_folder = './parsed_data/data_parsed/train/'\n",
    "files = os.listdir(tar_folder)\n",
    "questions = []\n",
    "for i, file in enumerate(files):\n",
    "\n",
    "    dat = pd.read_csv(tar_folder + file)\n",
    "    tmp = dat.drop(columns=['amenities', 'property_type', 'id', 'source'])\n",
    "\n",
    "    # get nan ratio in bedrooms\n",
    "    # cut bedrooms into 0/1 bedroom, 2 bedrooms, 3 bedrooms, 4+ bedrooms\n",
    "    tmp['Number of Bedrooms'] = pd.cut(tmp['bedrooms'], bins=[-1, 1, 2, 3, 100], labels=[\"studio or 1 bedroom\", \"2 bedrooms\", \"3 bedrooms\", \"4 or more bedrooms\"])\n",
    "\n",
    "    #tmp['bedrooms'] = pd.cut(tmp['bedrooms'], bins=[0, 1, 2, 3, 10000], labels=[\"0/1 bedroom\", \"2 bedrooms\", \"3 bedrooms\", \"4+ bedrooms\"])\n",
    "    tmp['Number of Bathrooms'] = pd.cut(tmp['bathrooms'], bins=[-1, 1, 2, 100], labels=[\"shared or single bathroom\", \"2 bathrooms\", \"3 or more bathrooms\"])\n",
    "    tmp['Host Experience'] = pd.cut(tmp['host_since'], bins=[-1, 365, 365*5, 365 * 10, 9999999999], labels=[\"under 1 year\", \"1 to 5 years\", \"6 to 10 years\", \"more than 10 years\"])\n",
    "    #tmp['host_is_superhost'] = tmp['host_is_superhost'].astype(str)\n",
    "    # put host is superhost as 'yes' or 'no', nan as nan\n",
    "\n",
    "    def map_values(val):\n",
    "        if pd.isna(val):\n",
    "            return np.nan\n",
    "        elif val:\n",
    "            return 'Yes'\n",
    "        else:\n",
    "            return 'No'\n",
    "\n",
    "    mapping = {True: 'Yes', False: 'No'}\n",
    "\n",
    "    # Create a new column with the mapped values\n",
    "    tmp['Superhost'] = tmp['host_is_superhost'].apply(map_values)\n",
    "\n",
    "\n",
    "    tmp['Room Type'] = tmp['room_type'].apply(lambda x: x if x in ['entire home or apartment', 'private room'] else 'shared or hotel room')\n",
    "\n",
    "    # drop the zeros in beds\n",
    "    tmp = tmp[tmp['beds'] != 0]\n",
    "\n",
    "    tmp['Total Beds'] = pd.cut(tmp['beds'], bins=[-1, 1, 2, 3, 100], labels=[\"1 bed\", \"2 beds\", \"3 beds\", \"4 or more beds\"])\n",
    "    print((tmp['beds'] == 0).mean(), file, len(tmp))\n",
    "    tmp['Review Score'] = pd.cut(tmp['review_scores_rating'], bins=[-1, 4.4, 4.9, 5.1], labels=[\"less than 4.4\", \"4.5 to 4.8\", \"at least 4.9\"])\n",
    "    tmp['Price'] = pd.cut(tmp['price'], bins=[-1, 50.9999999, 100.9999999, 200.9999999, 500.9999999, 9999999], labels=[\"under $50\", \"$51 to $100\", \"$101 to $200\", \"$201 to $500\", \"at least $501\"])\n",
    "    tmp['Max Accommodates'] = pd.cut(tmp['accommodates'], bins=[-1, 1, 2, 3, 100], labels=[\"1\", \"2\", \"3\", \"4 or more\"])\n",
    "    #for unique in tmp['accommodates'].unique():\n",
    "    #    print(unique, (tmp['accommodates'] == unique).mean())\n",
    "    #break\n",
    "    # drop the original columns\n",
    "    tmp = tmp.drop(columns=['bedrooms', 'bathrooms', 'host_since', 'host_is_superhost', 'room_type', 'beds', 'review_scores_rating', 'price', 'month', 'accommodates'])\n",
    "\n",
    "    #for i in tmp['Review Score'].unique():\n",
    "    #    print(i, (tmp['Review Score'] == i).mean())\n",
    "\n",
    "\n",
    "    # save back to csv \n",
    "    # make directory\n",
    "    if not os.path.exists(folder + '/' + file):\n",
    "        os.makedirs(folder + '/' + file)\n",
    "    tmp.to_csv(folder + '/' + file + '/' + file + '.csv')\n",
    "    #print(folder + '/' + file + '/' + file + '.csv')\n",
    "    # save json\n",
    "    #with open(folder + '/' + file + '/' + file + '.json', 'w') as f:\n",
    "    #    json.dump(json_rec, f)\n",
    "    #with open(folder + '/' + file + '/' + file + '_q.json', 'w') as f:\n",
    "    #    json.dump(json_q, f)\n",
    "    #questions.append(folder + '/' + file + '/' + file + '_q.json')\n",
    "    "
   ]
  },
  {
   "cell_type": "code",
   "execution_count": 12,
   "metadata": {},
   "outputs": [
    {
     "name": "stdout",
     "output_type": "stream",
     "text": [
      "Rochester 4816\n",
      "./Dataset/bin0/Rochester/Rochester.csv\n",
      "Newark 4890\n",
      "./Dataset/bin0/Newark/Newark.csv\n",
      "Columbus 7566\n",
      "./Dataset/bin0/Columbus/Columbus.csv\n",
      "BrowardCounty 53873\n",
      "./Dataset/bin0/BrowardCounty/BrowardCounty.csv\n",
      "SanDiego 49013\n",
      "./Dataset/bin0/SanDiego/SanDiego.csv\n",
      "Cambridge 3245\n",
      "./Dataset/bin0/Cambridge/Cambridge.csv\n",
      "SantaClaraCounty 20433\n",
      "./Dataset/bin0/SantaClaraCounty/SantaClaraCounty.csv\n",
      "ClarkCounty 62827\n",
      "./Dataset/bin0/ClarkCounty/ClarkCounty.csv\n",
      "Dallas 59509\n",
      "./Dataset/bin0/Dallas/Dallas.csv\n",
      "LosAngeles 180219\n",
      "./Dataset/bin0/LosAngeles/LosAngeles.csv\n",
      "Salem 961\n",
      "./Dataset/bin0/Salem/Salem.csv\n",
      "SanMateoCounty 13832\n",
      "./Dataset/bin0/SanMateoCounty/SanMateoCounty.csv\n",
      "Denver 20762\n",
      "./Dataset/bin0/Denver/Denver.csv\n",
      "JerseyCity 5799\n",
      "./Dataset/bin0/JerseyCity/JerseyCity.csv\n",
      "FortWorth 7268\n",
      "./Dataset/bin0/FortWorth/FortWorth.csv\n",
      "Oakland 10332\n",
      "./Dataset/bin0/Oakland/Oakland.csv\n",
      "Nashville 35378\n",
      "./Dataset/bin0/Nashville/Nashville.csv\n"
     ]
    }
   ],
   "source": [
    "import os\n",
    "import json\n",
    "import random\n",
    "random.seed(0)\n",
    "\n",
    "folder = \"./Dataset/bin0\"\n",
    "tar_folder = './parsed_data/data_parsed/train/'\n",
    "files = os.listdir(tar_folder)\n",
    "questions = []\n",
    "for i, file in enumerate(files):\n",
    "\n",
    "    dat = pd.read_csv(tar_folder + file)\n",
    "    tmp = dat.drop(columns=['amenities', 'property_type', 'id', 'source'])\n",
    "    # get nan ratio in bedrooms\n",
    "    # cut bedrooms into 0/1 bedroom, 2 bedrooms, 3 bedrooms, 4+ bedrooms\n",
    "    tmp['bedrooms'] = pd.cut(tmp['bedrooms'], bins=[-1, 1, 2, 3, 100], labels=[\"0/1 bedroom\", \"2 bedrooms\", \"3 bedrooms\", \"4+ bedrooms\"])\n",
    "\n",
    "    #tmp['bedrooms'] = pd.cut(tmp['bedrooms'], bins=[0, 1, 2, 3, 10000], labels=[\"0/1 bedroom\", \"2 bedrooms\", \"3 bedrooms\", \"4+ bedrooms\"])\n",
    "    tmp['bathrooms'] = pd.cut(tmp['bathrooms'], bins=[-1, 1, 2, 100], labels=[\"0/1 bathroom\", \"2 bathrooms\", \"3+ bathrooms\"])\n",
    "    tmp['host_since'] = pd.cut(tmp['host_since'], bins=[-1, 365, 365*5, 365 * 10, 9999999999], labels=[\"<1 year\", \"1-5 years\", \"5-10 years\", \"10+ years\"])\n",
    "    #tmp['host_is_superhost'] = tmp['host_is_superhost'].astype(str)\n",
    "    # put host is superhost as 'yes' or 'no', nan as nan\n",
    "\n",
    "    def map_values(val):\n",
    "        if pd.isna(val):\n",
    "            return np.nan\n",
    "        elif val:\n",
    "            return 'Yes'\n",
    "        else:\n",
    "            return 'No'\n",
    "\n",
    "    mapping = {True: 'Yes', False: 'No'}\n",
    "\n",
    "    # Create a new column with the mapped values\n",
    "    tmp['host_is_superhost'] = tmp['host_is_superhost'].apply(map_values)\n",
    "\n",
    "\n",
    "    tmp['room_type'] = tmp['room_type'].apply(lambda x: x if x in ['Entire home/apt', 'Private room'] else 'Shared/Hotel room')\n",
    "    tmp['beds'] = pd.cut(tmp['beds'], bins=[-1, 1, 2, 3, 100], labels=[\"0/1 bed\", \"2 beds\", \"3 beds\", \"4+ beds\"])\n",
    "    tmp['review_scores_rating'] = pd.cut(tmp['review_scores_rating'], bins=[-1, 4.3, 4.9, 5.1], labels=[\"<4.3\", \"4.3-4.8\", \"4.9+\"])\n",
    "    tmp['price'] = pd.cut(tmp['price'], bins=[-1, 50, 100, 200, 500, 9999999], labels=[\"<$50\", \"$51-$100\", \"$101-$200\", \"$201-$500\", \"$500+\"])\n",
    "    tmp['month'] = pd.cut(tmp['month'], bins=[0, 4, 8, 12], labels=[\"Jan-Apr\", \"May-Aug\", \"Sep-Dec\"])\n",
    "    tmp['accommodates'] = pd.cut(tmp['accommodates'], bins=[-1, 1, 2, 3, 4, 100], labels=[\"1\", \"2\", \"3\", \"4\", \"4+\"])\n",
    "    #for unique in tmp['accommodates'].unique():\n",
    "    #    print(unique, (tmp['accommodates'] == unique).mean())\n",
    "    #break\n",
    "\n",
    "\n",
    "    # for each column, make a json to record the possible values and probability\n",
    "    json_rec = {}\n",
    "    json_rec[\"Variables\"] = []\n",
    "    for col in tmp.columns:\n",
    "        if col == 'price':\n",
    "            continue\n",
    "        js = {}\n",
    "        js['Name'] = col\n",
    "        js['Value'] = tmp[col].unique().tolist()\n",
    "        js['Probability'] = []\n",
    "        for unique in js['Value']:\n",
    "            js['Probability'].append((tmp[col] == unique).mean())\n",
    "        json_rec[\"Variables\"].append(js)\n",
    "    \n",
    "    # Generate a question json file\n",
    "    json_q = {}\n",
    "    json_q['Target'] = {}\n",
    "    json_q['Target']['Name'] = 'price'\n",
    "    \n",
    "    # get one random variable and value, except for price\n",
    "    random_col = random.choice(tmp.columns)\n",
    "    while random_col == 'price':\n",
    "        random_col = random.choice(tmp.columns)\n",
    "    # drop nan\n",
    "    uni = tmp[random_col].dropna().unique().tolist()\n",
    "    uni = [x for x in uni if str(x) != 'nan']\n",
    "    #print(uni)\n",
    "    random_val = random.choice(uni)\n",
    "    #print(random_val)\n",
    "\n",
    "    json_q['Condition'] = []\n",
    "    rand = {}\n",
    "    rand['Name'] = random_col\n",
    "    rand['Value'] = random_val\n",
    "    json_q['Condition'].append(rand)\n",
    "    loc = {}\n",
    "    loc['Name'] = 'City'\n",
    "    loc['Value'] = map[file]\n",
    "    json_q['Condition'].append(loc)\n",
    "    \n",
    "\n",
    "    # save back to csv \n",
    "    # make directory\n",
    "    if not os.path.exists(folder + '/' + file):\n",
    "        os.makedirs(folder + '/' + file)\n",
    "    tmp.to_csv(folder + '/' + file + '/' + file + '.csv')\n",
    "    print(folder + '/' + file + '/' + file + '.csv')\n",
    "    # save json\n",
    "    #with open(folder + '/' + file + '/' + file + '.json', 'w') as f:\n",
    "    #    json.dump(json_rec, f)\n",
    "    #with open(folder + '/' + file + '/' + file + '_q.json', 'w') as f:\n",
    "    #    json.dump(json_q, f)\n",
    "    #questions.append(folder + '/' + file + '/' + file + '_q.json')\n",
    "    "
   ]
  },
  {
   "cell_type": "code",
   "execution_count": 44,
   "metadata": {},
   "outputs": [],
   "source": [
    "cs = pd.read_csv('./bin0/Cambridge/Cambridge.csv')"
   ]
  },
  {
   "cell_type": "code",
   "execution_count": 45,
   "metadata": {},
   "outputs": [
    {
     "data": {
      "text/plain": [
       "Index(['Unnamed: 0', 'month', 'host_since', 'host_is_superhost', 'room_type',\n",
       "       'accommodates', 'bathrooms', 'bedrooms', 'beds', 'price',\n",
       "       'review_scores_rating'],\n",
       "      dtype='object')"
      ]
     },
     "execution_count": 45,
     "metadata": {},
     "output_type": "execute_result"
    }
   ],
   "source": [
    "cs.columns"
   ]
  },
  {
   "cell_type": "code",
   "execution_count": 47,
   "metadata": {},
   "outputs": [
    {
     "data": {
      "text/plain": [
       "count     3245\n",
       "unique       2\n",
       "top         No\n",
       "freq      2108\n",
       "Name: host_is_superhost, dtype: object"
      ]
     },
     "execution_count": 47,
     "metadata": {},
     "output_type": "execute_result"
    }
   ],
   "source": [
    "cs['host_is_superhost'].describe()"
   ]
  },
  {
   "cell_type": "code",
   "execution_count": 66,
   "metadata": {},
   "outputs": [],
   "source": [
    "example = json.load(open('./example_files/example_question.json'))\n",
    "\n",
    "# separate 'Text' and the rest of the entries\n",
    "text = example['Text']\n",
    "example.pop('Text')\n",
    "js = json.dumps(example)\n",
    "\n",
    "prompt = []\n",
    "\n",
    "system = \"Translate the provided JSON data into a question sentence in English. Follow the provided example. Include keyword Airbnb.\"\n",
    "\n",
    "user_1 = js\n",
    "assistant_1 = text\n",
    "\n",
    "prompt.append({'role': 'system', 'content': system})\n",
    "prompt.append({'role': 'user', 'content': user_1})\n",
    "prompt.append({'role': 'assistant', 'content': assistant_1})"
   ]
  },
  {
   "cell_type": "code",
   "execution_count": 67,
   "metadata": {},
   "outputs": [
    {
     "data": {
      "text/plain": [
       "[{'role': 'system',\n",
       "  'content': 'Translate the provided JSON data into a question sentence in English. Follow the provided example. Include keyword Airbnb.'},\n",
       " {'role': 'user',\n",
       "  'content': '{\"Target\": [{\"Name\": \"price\", \"Type\": \"float\"}], \"Condition\": [{\"Name\": \"room_type\", \"Type\": \"str\", \"Value\": [\"Private room\"]}, {\"Name\": \"beds\", \"Type\": \"int\", \"Value\": [\"1\", \"2\", \"3\"]}]}'},\n",
       " {'role': 'assistant',\n",
       "  'content': 'What is the nightly price of an Airbnb listing that is a private room in a property with at most 3 beds?'}]"
      ]
     },
     "execution_count": 67,
     "metadata": {},
     "output_type": "execute_result"
    }
   ],
   "source": [
    "prompt"
   ]
  },
  {
   "cell_type": "code",
   "execution_count": 38,
   "metadata": {},
   "outputs": [
    {
     "ename": "RateLimitError",
     "evalue": "Error code: 429 - {'error': {'message': 'You exceeded your current quota, please check your plan and billing details. For more information on this error, read the docs: https://platform.openai.com/docs/guides/error-codes/api-errors.', 'type': 'insufficient_quota', 'param': None, 'code': 'insufficient_quota'}}",
     "output_type": "error",
     "traceback": [
      "\u001b[0;31m---------------------------------------------------------------------------\u001b[0m",
      "\u001b[0;31mRateLimitError\u001b[0m                            Traceback (most recent call last)",
      "Cell \u001b[0;32mIn[38], line 4\u001b[0m\n\u001b[1;32m      2\u001b[0m trans \u001b[38;5;241m=\u001b[39m question_translate(prompt)\n\u001b[1;32m      3\u001b[0m \u001b[38;5;28;01mfor\u001b[39;00m q \u001b[38;5;129;01min\u001b[39;00m questions:\n\u001b[0;32m----> 4\u001b[0m     \u001b[38;5;28mprint\u001b[39m(\u001b[43mtrans\u001b[49m\u001b[38;5;241;43m.\u001b[39;49m\u001b[43mput_new\u001b[49m\u001b[43m(\u001b[49m\u001b[43mq\u001b[49m\u001b[43m)\u001b[49m)\n",
      "File \u001b[0;32m~/Desktop/directory/commonsense/utils.py:116\u001b[0m, in \u001b[0;36mquestion_translate.put_new\u001b[0;34m(self, js_path, out_path)\u001b[0m\n\u001b[1;32m    113\u001b[0m \u001b[38;5;28;01mdef\u001b[39;00m \u001b[38;5;21mput_new\u001b[39m(\u001b[38;5;28mself\u001b[39m, js_path, out_path\u001b[38;5;241m=\u001b[39m\u001b[38;5;28;01mNone\u001b[39;00m):\n\u001b[1;32m    115\u001b[0m     js \u001b[38;5;241m=\u001b[39m json\u001b[38;5;241m.\u001b[39mload(\u001b[38;5;28mopen\u001b[39m(js_path))\u001b[38;5;241m.\u001b[39mcopy()\n\u001b[0;32m--> 116\u001b[0m     text \u001b[38;5;241m=\u001b[39m \u001b[38;5;28;43mself\u001b[39;49m\u001b[38;5;241;43m.\u001b[39;49m\u001b[43mget_text\u001b[49m\u001b[43m(\u001b[49m\u001b[43mjs\u001b[49m\u001b[43m)\u001b[49m\n\u001b[1;32m    117\u001b[0m     js[\u001b[38;5;124m'\u001b[39m\u001b[38;5;124mText\u001b[39m\u001b[38;5;124m'\u001b[39m] \u001b[38;5;241m=\u001b[39m text\n\u001b[1;32m    119\u001b[0m     \u001b[38;5;28;01mif\u001b[39;00m out_path:\n",
      "File \u001b[0;32m~/Desktop/directory/commonsense/utils.py:105\u001b[0m, in \u001b[0;36mquestion_translate.get_text\u001b[0;34m(self, js_question)\u001b[0m\n\u001b[1;32m    103\u001b[0m     js_question \u001b[38;5;241m=\u001b[39m json\u001b[38;5;241m.\u001b[39mdumps(js_question)\n\u001b[1;32m    104\u001b[0m tmp\u001b[38;5;241m.\u001b[39mappend({\u001b[38;5;124m'\u001b[39m\u001b[38;5;124mrole\u001b[39m\u001b[38;5;124m'\u001b[39m: \u001b[38;5;124m'\u001b[39m\u001b[38;5;124muser\u001b[39m\u001b[38;5;124m'\u001b[39m, \u001b[38;5;124m'\u001b[39m\u001b[38;5;124mcontent\u001b[39m\u001b[38;5;124m'\u001b[39m: js_question})\n\u001b[0;32m--> 105\u001b[0m response \u001b[38;5;241m=\u001b[39m \u001b[38;5;28;43mself\u001b[39;49m\u001b[38;5;241;43m.\u001b[39;49m\u001b[43mclient\u001b[49m\u001b[38;5;241;43m.\u001b[39;49m\u001b[43mchat\u001b[49m\u001b[38;5;241;43m.\u001b[39;49m\u001b[43mcompletions\u001b[49m\u001b[38;5;241;43m.\u001b[39;49m\u001b[43mcreate\u001b[49m\u001b[43m(\u001b[49m\n\u001b[1;32m    106\u001b[0m \u001b[43m    \u001b[49m\u001b[43mmodel\u001b[49m\u001b[38;5;241;43m=\u001b[39;49m\u001b[38;5;28;43mself\u001b[39;49m\u001b[38;5;241;43m.\u001b[39;49m\u001b[43mmodel\u001b[49m\u001b[43m,\u001b[49m\n\u001b[1;32m    107\u001b[0m \u001b[43m    \u001b[49m\u001b[43mresponse_format\u001b[49m\u001b[38;5;241;43m=\u001b[39;49m\u001b[43m{\u001b[49m\u001b[43m \u001b[49m\u001b[38;5;124;43m\"\u001b[39;49m\u001b[38;5;124;43mtype\u001b[39;49m\u001b[38;5;124;43m\"\u001b[39;49m\u001b[43m:\u001b[49m\u001b[43m \u001b[49m\u001b[38;5;124;43m\"\u001b[39;49m\u001b[38;5;124;43mtext\u001b[39;49m\u001b[38;5;124;43m\"\u001b[39;49m\u001b[43m \u001b[49m\u001b[43m}\u001b[49m\u001b[43m,\u001b[49m\n\u001b[1;32m    108\u001b[0m \u001b[43m    \u001b[49m\u001b[43mtemperature\u001b[49m\u001b[38;5;241;43m=\u001b[39;49m\u001b[38;5;241;43m0\u001b[39;49m\u001b[43m,\u001b[49m\n\u001b[1;32m    109\u001b[0m \u001b[43m    \u001b[49m\u001b[43mmessages\u001b[49m\u001b[38;5;241;43m=\u001b[39;49m\u001b[43mtmp\u001b[49m\n\u001b[1;32m    110\u001b[0m \u001b[43m\u001b[49m\u001b[43m)\u001b[49m\n\u001b[1;32m    111\u001b[0m \u001b[38;5;28;01mreturn\u001b[39;00m response\u001b[38;5;241m.\u001b[39mchoices[\u001b[38;5;241m0\u001b[39m]\u001b[38;5;241m.\u001b[39mmessage\u001b[38;5;241m.\u001b[39mcontent\n",
      "File \u001b[0;32m/opt/homebrew/Caskroom/miniconda/base/envs/dl/lib/python3.8/site-packages/openai/_utils/_utils.py:277\u001b[0m, in \u001b[0;36mrequired_args.<locals>.inner.<locals>.wrapper\u001b[0;34m(*args, **kwargs)\u001b[0m\n\u001b[1;32m    275\u001b[0m             msg \u001b[38;5;241m=\u001b[39m \u001b[38;5;124mf\u001b[39m\u001b[38;5;124m\"\u001b[39m\u001b[38;5;124mMissing required argument: \u001b[39m\u001b[38;5;132;01m{\u001b[39;00mquote(missing[\u001b[38;5;241m0\u001b[39m])\u001b[38;5;132;01m}\u001b[39;00m\u001b[38;5;124m\"\u001b[39m\n\u001b[1;32m    276\u001b[0m     \u001b[38;5;28;01mraise\u001b[39;00m \u001b[38;5;167;01mTypeError\u001b[39;00m(msg)\n\u001b[0;32m--> 277\u001b[0m \u001b[38;5;28;01mreturn\u001b[39;00m \u001b[43mfunc\u001b[49m\u001b[43m(\u001b[49m\u001b[38;5;241;43m*\u001b[39;49m\u001b[43margs\u001b[49m\u001b[43m,\u001b[49m\u001b[43m \u001b[49m\u001b[38;5;241;43m*\u001b[39;49m\u001b[38;5;241;43m*\u001b[39;49m\u001b[43mkwargs\u001b[49m\u001b[43m)\u001b[49m\n",
      "File \u001b[0;32m/opt/homebrew/Caskroom/miniconda/base/envs/dl/lib/python3.8/site-packages/openai/resources/chat/completions.py:579\u001b[0m, in \u001b[0;36mCompletions.create\u001b[0;34m(self, messages, model, frequency_penalty, function_call, functions, logit_bias, logprobs, max_tokens, n, presence_penalty, response_format, seed, stop, stream, temperature, tool_choice, tools, top_logprobs, top_p, user, extra_headers, extra_query, extra_body, timeout)\u001b[0m\n\u001b[1;32m    548\u001b[0m \u001b[38;5;129m@required_args\u001b[39m([\u001b[38;5;124m\"\u001b[39m\u001b[38;5;124mmessages\u001b[39m\u001b[38;5;124m\"\u001b[39m, \u001b[38;5;124m\"\u001b[39m\u001b[38;5;124mmodel\u001b[39m\u001b[38;5;124m\"\u001b[39m], [\u001b[38;5;124m\"\u001b[39m\u001b[38;5;124mmessages\u001b[39m\u001b[38;5;124m\"\u001b[39m, \u001b[38;5;124m\"\u001b[39m\u001b[38;5;124mmodel\u001b[39m\u001b[38;5;124m\"\u001b[39m, \u001b[38;5;124m\"\u001b[39m\u001b[38;5;124mstream\u001b[39m\u001b[38;5;124m\"\u001b[39m])\n\u001b[1;32m    549\u001b[0m \u001b[38;5;28;01mdef\u001b[39;00m \u001b[38;5;21mcreate\u001b[39m(\n\u001b[1;32m    550\u001b[0m     \u001b[38;5;28mself\u001b[39m,\n\u001b[0;32m   (...)\u001b[0m\n\u001b[1;32m    577\u001b[0m     timeout: \u001b[38;5;28mfloat\u001b[39m \u001b[38;5;241m|\u001b[39m httpx\u001b[38;5;241m.\u001b[39mTimeout \u001b[38;5;241m|\u001b[39m \u001b[38;5;28;01mNone\u001b[39;00m \u001b[38;5;241m|\u001b[39m NotGiven \u001b[38;5;241m=\u001b[39m NOT_GIVEN,\n\u001b[1;32m    578\u001b[0m ) \u001b[38;5;241m-\u001b[39m\u001b[38;5;241m>\u001b[39m ChatCompletion \u001b[38;5;241m|\u001b[39m Stream[ChatCompletionChunk]:\n\u001b[0;32m--> 579\u001b[0m     \u001b[38;5;28;01mreturn\u001b[39;00m \u001b[38;5;28;43mself\u001b[39;49m\u001b[38;5;241;43m.\u001b[39;49m\u001b[43m_post\u001b[49m\u001b[43m(\u001b[49m\n\u001b[1;32m    580\u001b[0m \u001b[43m        \u001b[49m\u001b[38;5;124;43m\"\u001b[39;49m\u001b[38;5;124;43m/chat/completions\u001b[39;49m\u001b[38;5;124;43m\"\u001b[39;49m\u001b[43m,\u001b[49m\n\u001b[1;32m    581\u001b[0m \u001b[43m        \u001b[49m\u001b[43mbody\u001b[49m\u001b[38;5;241;43m=\u001b[39;49m\u001b[43mmaybe_transform\u001b[49m\u001b[43m(\u001b[49m\n\u001b[1;32m    582\u001b[0m \u001b[43m            \u001b[49m\u001b[43m{\u001b[49m\n\u001b[1;32m    583\u001b[0m \u001b[43m                \u001b[49m\u001b[38;5;124;43m\"\u001b[39;49m\u001b[38;5;124;43mmessages\u001b[39;49m\u001b[38;5;124;43m\"\u001b[39;49m\u001b[43m:\u001b[49m\u001b[43m \u001b[49m\u001b[43mmessages\u001b[49m\u001b[43m,\u001b[49m\n\u001b[1;32m    584\u001b[0m \u001b[43m                \u001b[49m\u001b[38;5;124;43m\"\u001b[39;49m\u001b[38;5;124;43mmodel\u001b[39;49m\u001b[38;5;124;43m\"\u001b[39;49m\u001b[43m:\u001b[49m\u001b[43m \u001b[49m\u001b[43mmodel\u001b[49m\u001b[43m,\u001b[49m\n\u001b[1;32m    585\u001b[0m \u001b[43m                \u001b[49m\u001b[38;5;124;43m\"\u001b[39;49m\u001b[38;5;124;43mfrequency_penalty\u001b[39;49m\u001b[38;5;124;43m\"\u001b[39;49m\u001b[43m:\u001b[49m\u001b[43m \u001b[49m\u001b[43mfrequency_penalty\u001b[49m\u001b[43m,\u001b[49m\n\u001b[1;32m    586\u001b[0m \u001b[43m                \u001b[49m\u001b[38;5;124;43m\"\u001b[39;49m\u001b[38;5;124;43mfunction_call\u001b[39;49m\u001b[38;5;124;43m\"\u001b[39;49m\u001b[43m:\u001b[49m\u001b[43m \u001b[49m\u001b[43mfunction_call\u001b[49m\u001b[43m,\u001b[49m\n\u001b[1;32m    587\u001b[0m \u001b[43m                \u001b[49m\u001b[38;5;124;43m\"\u001b[39;49m\u001b[38;5;124;43mfunctions\u001b[39;49m\u001b[38;5;124;43m\"\u001b[39;49m\u001b[43m:\u001b[49m\u001b[43m \u001b[49m\u001b[43mfunctions\u001b[49m\u001b[43m,\u001b[49m\n\u001b[1;32m    588\u001b[0m \u001b[43m                \u001b[49m\u001b[38;5;124;43m\"\u001b[39;49m\u001b[38;5;124;43mlogit_bias\u001b[39;49m\u001b[38;5;124;43m\"\u001b[39;49m\u001b[43m:\u001b[49m\u001b[43m \u001b[49m\u001b[43mlogit_bias\u001b[49m\u001b[43m,\u001b[49m\n\u001b[1;32m    589\u001b[0m \u001b[43m                \u001b[49m\u001b[38;5;124;43m\"\u001b[39;49m\u001b[38;5;124;43mlogprobs\u001b[39;49m\u001b[38;5;124;43m\"\u001b[39;49m\u001b[43m:\u001b[49m\u001b[43m \u001b[49m\u001b[43mlogprobs\u001b[49m\u001b[43m,\u001b[49m\n\u001b[1;32m    590\u001b[0m \u001b[43m                \u001b[49m\u001b[38;5;124;43m\"\u001b[39;49m\u001b[38;5;124;43mmax_tokens\u001b[39;49m\u001b[38;5;124;43m\"\u001b[39;49m\u001b[43m:\u001b[49m\u001b[43m \u001b[49m\u001b[43mmax_tokens\u001b[49m\u001b[43m,\u001b[49m\n\u001b[1;32m    591\u001b[0m \u001b[43m                \u001b[49m\u001b[38;5;124;43m\"\u001b[39;49m\u001b[38;5;124;43mn\u001b[39;49m\u001b[38;5;124;43m\"\u001b[39;49m\u001b[43m:\u001b[49m\u001b[43m \u001b[49m\u001b[43mn\u001b[49m\u001b[43m,\u001b[49m\n\u001b[1;32m    592\u001b[0m \u001b[43m                \u001b[49m\u001b[38;5;124;43m\"\u001b[39;49m\u001b[38;5;124;43mpresence_penalty\u001b[39;49m\u001b[38;5;124;43m\"\u001b[39;49m\u001b[43m:\u001b[49m\u001b[43m \u001b[49m\u001b[43mpresence_penalty\u001b[49m\u001b[43m,\u001b[49m\n\u001b[1;32m    593\u001b[0m \u001b[43m                \u001b[49m\u001b[38;5;124;43m\"\u001b[39;49m\u001b[38;5;124;43mresponse_format\u001b[39;49m\u001b[38;5;124;43m\"\u001b[39;49m\u001b[43m:\u001b[49m\u001b[43m \u001b[49m\u001b[43mresponse_format\u001b[49m\u001b[43m,\u001b[49m\n\u001b[1;32m    594\u001b[0m \u001b[43m                \u001b[49m\u001b[38;5;124;43m\"\u001b[39;49m\u001b[38;5;124;43mseed\u001b[39;49m\u001b[38;5;124;43m\"\u001b[39;49m\u001b[43m:\u001b[49m\u001b[43m \u001b[49m\u001b[43mseed\u001b[49m\u001b[43m,\u001b[49m\n\u001b[1;32m    595\u001b[0m \u001b[43m                \u001b[49m\u001b[38;5;124;43m\"\u001b[39;49m\u001b[38;5;124;43mstop\u001b[39;49m\u001b[38;5;124;43m\"\u001b[39;49m\u001b[43m:\u001b[49m\u001b[43m \u001b[49m\u001b[43mstop\u001b[49m\u001b[43m,\u001b[49m\n\u001b[1;32m    596\u001b[0m \u001b[43m                \u001b[49m\u001b[38;5;124;43m\"\u001b[39;49m\u001b[38;5;124;43mstream\u001b[39;49m\u001b[38;5;124;43m\"\u001b[39;49m\u001b[43m:\u001b[49m\u001b[43m \u001b[49m\u001b[43mstream\u001b[49m\u001b[43m,\u001b[49m\n\u001b[1;32m    597\u001b[0m \u001b[43m                \u001b[49m\u001b[38;5;124;43m\"\u001b[39;49m\u001b[38;5;124;43mtemperature\u001b[39;49m\u001b[38;5;124;43m\"\u001b[39;49m\u001b[43m:\u001b[49m\u001b[43m \u001b[49m\u001b[43mtemperature\u001b[49m\u001b[43m,\u001b[49m\n\u001b[1;32m    598\u001b[0m \u001b[43m                \u001b[49m\u001b[38;5;124;43m\"\u001b[39;49m\u001b[38;5;124;43mtool_choice\u001b[39;49m\u001b[38;5;124;43m\"\u001b[39;49m\u001b[43m:\u001b[49m\u001b[43m \u001b[49m\u001b[43mtool_choice\u001b[49m\u001b[43m,\u001b[49m\n\u001b[1;32m    599\u001b[0m \u001b[43m                \u001b[49m\u001b[38;5;124;43m\"\u001b[39;49m\u001b[38;5;124;43mtools\u001b[39;49m\u001b[38;5;124;43m\"\u001b[39;49m\u001b[43m:\u001b[49m\u001b[43m \u001b[49m\u001b[43mtools\u001b[49m\u001b[43m,\u001b[49m\n\u001b[1;32m    600\u001b[0m \u001b[43m                \u001b[49m\u001b[38;5;124;43m\"\u001b[39;49m\u001b[38;5;124;43mtop_logprobs\u001b[39;49m\u001b[38;5;124;43m\"\u001b[39;49m\u001b[43m:\u001b[49m\u001b[43m \u001b[49m\u001b[43mtop_logprobs\u001b[49m\u001b[43m,\u001b[49m\n\u001b[1;32m    601\u001b[0m \u001b[43m                \u001b[49m\u001b[38;5;124;43m\"\u001b[39;49m\u001b[38;5;124;43mtop_p\u001b[39;49m\u001b[38;5;124;43m\"\u001b[39;49m\u001b[43m:\u001b[49m\u001b[43m \u001b[49m\u001b[43mtop_p\u001b[49m\u001b[43m,\u001b[49m\n\u001b[1;32m    602\u001b[0m \u001b[43m                \u001b[49m\u001b[38;5;124;43m\"\u001b[39;49m\u001b[38;5;124;43muser\u001b[39;49m\u001b[38;5;124;43m\"\u001b[39;49m\u001b[43m:\u001b[49m\u001b[43m \u001b[49m\u001b[43muser\u001b[49m\u001b[43m,\u001b[49m\n\u001b[1;32m    603\u001b[0m \u001b[43m            \u001b[49m\u001b[43m}\u001b[49m\u001b[43m,\u001b[49m\n\u001b[1;32m    604\u001b[0m \u001b[43m            \u001b[49m\u001b[43mcompletion_create_params\u001b[49m\u001b[38;5;241;43m.\u001b[39;49m\u001b[43mCompletionCreateParams\u001b[49m\u001b[43m,\u001b[49m\n\u001b[1;32m    605\u001b[0m \u001b[43m        \u001b[49m\u001b[43m)\u001b[49m\u001b[43m,\u001b[49m\n\u001b[1;32m    606\u001b[0m \u001b[43m        \u001b[49m\u001b[43moptions\u001b[49m\u001b[38;5;241;43m=\u001b[39;49m\u001b[43mmake_request_options\u001b[49m\u001b[43m(\u001b[49m\n\u001b[1;32m    607\u001b[0m \u001b[43m            \u001b[49m\u001b[43mextra_headers\u001b[49m\u001b[38;5;241;43m=\u001b[39;49m\u001b[43mextra_headers\u001b[49m\u001b[43m,\u001b[49m\u001b[43m \u001b[49m\u001b[43mextra_query\u001b[49m\u001b[38;5;241;43m=\u001b[39;49m\u001b[43mextra_query\u001b[49m\u001b[43m,\u001b[49m\u001b[43m \u001b[49m\u001b[43mextra_body\u001b[49m\u001b[38;5;241;43m=\u001b[39;49m\u001b[43mextra_body\u001b[49m\u001b[43m,\u001b[49m\u001b[43m \u001b[49m\u001b[43mtimeout\u001b[49m\u001b[38;5;241;43m=\u001b[39;49m\u001b[43mtimeout\u001b[49m\n\u001b[1;32m    608\u001b[0m \u001b[43m        \u001b[49m\u001b[43m)\u001b[49m\u001b[43m,\u001b[49m\n\u001b[1;32m    609\u001b[0m \u001b[43m        \u001b[49m\u001b[43mcast_to\u001b[49m\u001b[38;5;241;43m=\u001b[39;49m\u001b[43mChatCompletion\u001b[49m\u001b[43m,\u001b[49m\n\u001b[1;32m    610\u001b[0m \u001b[43m        \u001b[49m\u001b[43mstream\u001b[49m\u001b[38;5;241;43m=\u001b[39;49m\u001b[43mstream\u001b[49m\u001b[43m \u001b[49m\u001b[38;5;129;43;01mor\u001b[39;49;00m\u001b[43m \u001b[49m\u001b[38;5;28;43;01mFalse\u001b[39;49;00m\u001b[43m,\u001b[49m\n\u001b[1;32m    611\u001b[0m \u001b[43m        \u001b[49m\u001b[43mstream_cls\u001b[49m\u001b[38;5;241;43m=\u001b[39;49m\u001b[43mStream\u001b[49m\u001b[43m[\u001b[49m\u001b[43mChatCompletionChunk\u001b[49m\u001b[43m]\u001b[49m\u001b[43m,\u001b[49m\n\u001b[1;32m    612\u001b[0m \u001b[43m    \u001b[49m\u001b[43m)\u001b[49m\n",
      "File \u001b[0;32m/opt/homebrew/Caskroom/miniconda/base/envs/dl/lib/python3.8/site-packages/openai/_base_client.py:1240\u001b[0m, in \u001b[0;36mSyncAPIClient.post\u001b[0;34m(self, path, cast_to, body, options, files, stream, stream_cls)\u001b[0m\n\u001b[1;32m   1226\u001b[0m \u001b[38;5;28;01mdef\u001b[39;00m \u001b[38;5;21mpost\u001b[39m(\n\u001b[1;32m   1227\u001b[0m     \u001b[38;5;28mself\u001b[39m,\n\u001b[1;32m   1228\u001b[0m     path: \u001b[38;5;28mstr\u001b[39m,\n\u001b[0;32m   (...)\u001b[0m\n\u001b[1;32m   1235\u001b[0m     stream_cls: \u001b[38;5;28mtype\u001b[39m[_StreamT] \u001b[38;5;241m|\u001b[39m \u001b[38;5;28;01mNone\u001b[39;00m \u001b[38;5;241m=\u001b[39m \u001b[38;5;28;01mNone\u001b[39;00m,\n\u001b[1;32m   1236\u001b[0m ) \u001b[38;5;241m-\u001b[39m\u001b[38;5;241m>\u001b[39m ResponseT \u001b[38;5;241m|\u001b[39m _StreamT:\n\u001b[1;32m   1237\u001b[0m     opts \u001b[38;5;241m=\u001b[39m FinalRequestOptions\u001b[38;5;241m.\u001b[39mconstruct(\n\u001b[1;32m   1238\u001b[0m         method\u001b[38;5;241m=\u001b[39m\u001b[38;5;124m\"\u001b[39m\u001b[38;5;124mpost\u001b[39m\u001b[38;5;124m\"\u001b[39m, url\u001b[38;5;241m=\u001b[39mpath, json_data\u001b[38;5;241m=\u001b[39mbody, files\u001b[38;5;241m=\u001b[39mto_httpx_files(files), \u001b[38;5;241m*\u001b[39m\u001b[38;5;241m*\u001b[39moptions\n\u001b[1;32m   1239\u001b[0m     )\n\u001b[0;32m-> 1240\u001b[0m     \u001b[38;5;28;01mreturn\u001b[39;00m cast(ResponseT, \u001b[38;5;28;43mself\u001b[39;49m\u001b[38;5;241;43m.\u001b[39;49m\u001b[43mrequest\u001b[49m\u001b[43m(\u001b[49m\u001b[43mcast_to\u001b[49m\u001b[43m,\u001b[49m\u001b[43m \u001b[49m\u001b[43mopts\u001b[49m\u001b[43m,\u001b[49m\u001b[43m \u001b[49m\u001b[43mstream\u001b[49m\u001b[38;5;241;43m=\u001b[39;49m\u001b[43mstream\u001b[49m\u001b[43m,\u001b[49m\u001b[43m \u001b[49m\u001b[43mstream_cls\u001b[49m\u001b[38;5;241;43m=\u001b[39;49m\u001b[43mstream_cls\u001b[49m\u001b[43m)\u001b[49m)\n",
      "File \u001b[0;32m/opt/homebrew/Caskroom/miniconda/base/envs/dl/lib/python3.8/site-packages/openai/_base_client.py:921\u001b[0m, in \u001b[0;36mSyncAPIClient.request\u001b[0;34m(self, cast_to, options, remaining_retries, stream, stream_cls)\u001b[0m\n\u001b[1;32m    912\u001b[0m \u001b[38;5;28;01mdef\u001b[39;00m \u001b[38;5;21mrequest\u001b[39m(\n\u001b[1;32m    913\u001b[0m     \u001b[38;5;28mself\u001b[39m,\n\u001b[1;32m    914\u001b[0m     cast_to: Type[ResponseT],\n\u001b[0;32m   (...)\u001b[0m\n\u001b[1;32m    919\u001b[0m     stream_cls: \u001b[38;5;28mtype\u001b[39m[_StreamT] \u001b[38;5;241m|\u001b[39m \u001b[38;5;28;01mNone\u001b[39;00m \u001b[38;5;241m=\u001b[39m \u001b[38;5;28;01mNone\u001b[39;00m,\n\u001b[1;32m    920\u001b[0m ) \u001b[38;5;241m-\u001b[39m\u001b[38;5;241m>\u001b[39m ResponseT \u001b[38;5;241m|\u001b[39m _StreamT:\n\u001b[0;32m--> 921\u001b[0m     \u001b[38;5;28;01mreturn\u001b[39;00m \u001b[38;5;28;43mself\u001b[39;49m\u001b[38;5;241;43m.\u001b[39;49m\u001b[43m_request\u001b[49m\u001b[43m(\u001b[49m\n\u001b[1;32m    922\u001b[0m \u001b[43m        \u001b[49m\u001b[43mcast_to\u001b[49m\u001b[38;5;241;43m=\u001b[39;49m\u001b[43mcast_to\u001b[49m\u001b[43m,\u001b[49m\n\u001b[1;32m    923\u001b[0m \u001b[43m        \u001b[49m\u001b[43moptions\u001b[49m\u001b[38;5;241;43m=\u001b[39;49m\u001b[43moptions\u001b[49m\u001b[43m,\u001b[49m\n\u001b[1;32m    924\u001b[0m \u001b[43m        \u001b[49m\u001b[43mstream\u001b[49m\u001b[38;5;241;43m=\u001b[39;49m\u001b[43mstream\u001b[49m\u001b[43m,\u001b[49m\n\u001b[1;32m    925\u001b[0m \u001b[43m        \u001b[49m\u001b[43mstream_cls\u001b[49m\u001b[38;5;241;43m=\u001b[39;49m\u001b[43mstream_cls\u001b[49m\u001b[43m,\u001b[49m\n\u001b[1;32m    926\u001b[0m \u001b[43m        \u001b[49m\u001b[43mremaining_retries\u001b[49m\u001b[38;5;241;43m=\u001b[39;49m\u001b[43mremaining_retries\u001b[49m\u001b[43m,\u001b[49m\n\u001b[1;32m    927\u001b[0m \u001b[43m    \u001b[49m\u001b[43m)\u001b[49m\n",
      "File \u001b[0;32m/opt/homebrew/Caskroom/miniconda/base/envs/dl/lib/python3.8/site-packages/openai/_base_client.py:1005\u001b[0m, in \u001b[0;36mSyncAPIClient._request\u001b[0;34m(self, cast_to, options, remaining_retries, stream, stream_cls)\u001b[0m\n\u001b[1;32m   1003\u001b[0m \u001b[38;5;28;01mif\u001b[39;00m retries \u001b[38;5;241m>\u001b[39m \u001b[38;5;241m0\u001b[39m \u001b[38;5;129;01mand\u001b[39;00m \u001b[38;5;28mself\u001b[39m\u001b[38;5;241m.\u001b[39m_should_retry(err\u001b[38;5;241m.\u001b[39mresponse):\n\u001b[1;32m   1004\u001b[0m     err\u001b[38;5;241m.\u001b[39mresponse\u001b[38;5;241m.\u001b[39mclose()\n\u001b[0;32m-> 1005\u001b[0m     \u001b[38;5;28;01mreturn\u001b[39;00m \u001b[38;5;28;43mself\u001b[39;49m\u001b[38;5;241;43m.\u001b[39;49m\u001b[43m_retry_request\u001b[49m\u001b[43m(\u001b[49m\n\u001b[1;32m   1006\u001b[0m \u001b[43m        \u001b[49m\u001b[43moptions\u001b[49m\u001b[43m,\u001b[49m\n\u001b[1;32m   1007\u001b[0m \u001b[43m        \u001b[49m\u001b[43mcast_to\u001b[49m\u001b[43m,\u001b[49m\n\u001b[1;32m   1008\u001b[0m \u001b[43m        \u001b[49m\u001b[43mretries\u001b[49m\u001b[43m,\u001b[49m\n\u001b[1;32m   1009\u001b[0m \u001b[43m        \u001b[49m\u001b[43merr\u001b[49m\u001b[38;5;241;43m.\u001b[39;49m\u001b[43mresponse\u001b[49m\u001b[38;5;241;43m.\u001b[39;49m\u001b[43mheaders\u001b[49m\u001b[43m,\u001b[49m\n\u001b[1;32m   1010\u001b[0m \u001b[43m        \u001b[49m\u001b[43mstream\u001b[49m\u001b[38;5;241;43m=\u001b[39;49m\u001b[43mstream\u001b[49m\u001b[43m,\u001b[49m\n\u001b[1;32m   1011\u001b[0m \u001b[43m        \u001b[49m\u001b[43mstream_cls\u001b[49m\u001b[38;5;241;43m=\u001b[39;49m\u001b[43mstream_cls\u001b[49m\u001b[43m,\u001b[49m\n\u001b[1;32m   1012\u001b[0m \u001b[43m    \u001b[49m\u001b[43m)\u001b[49m\n\u001b[1;32m   1014\u001b[0m \u001b[38;5;66;03m# If the response is streamed then we need to explicitly read the response\u001b[39;00m\n\u001b[1;32m   1015\u001b[0m \u001b[38;5;66;03m# to completion before attempting to access the response text.\u001b[39;00m\n\u001b[1;32m   1016\u001b[0m \u001b[38;5;28;01mif\u001b[39;00m \u001b[38;5;129;01mnot\u001b[39;00m err\u001b[38;5;241m.\u001b[39mresponse\u001b[38;5;241m.\u001b[39mis_closed:\n",
      "File \u001b[0;32m/opt/homebrew/Caskroom/miniconda/base/envs/dl/lib/python3.8/site-packages/openai/_base_client.py:1053\u001b[0m, in \u001b[0;36mSyncAPIClient._retry_request\u001b[0;34m(self, options, cast_to, remaining_retries, response_headers, stream, stream_cls)\u001b[0m\n\u001b[1;32m   1049\u001b[0m \u001b[38;5;66;03m# In a synchronous context we are blocking the entire thread. Up to the library user to run the client in a\u001b[39;00m\n\u001b[1;32m   1050\u001b[0m \u001b[38;5;66;03m# different thread if necessary.\u001b[39;00m\n\u001b[1;32m   1051\u001b[0m time\u001b[38;5;241m.\u001b[39msleep(timeout)\n\u001b[0;32m-> 1053\u001b[0m \u001b[38;5;28;01mreturn\u001b[39;00m \u001b[38;5;28;43mself\u001b[39;49m\u001b[38;5;241;43m.\u001b[39;49m\u001b[43m_request\u001b[49m\u001b[43m(\u001b[49m\n\u001b[1;32m   1054\u001b[0m \u001b[43m    \u001b[49m\u001b[43moptions\u001b[49m\u001b[38;5;241;43m=\u001b[39;49m\u001b[43moptions\u001b[49m\u001b[43m,\u001b[49m\n\u001b[1;32m   1055\u001b[0m \u001b[43m    \u001b[49m\u001b[43mcast_to\u001b[49m\u001b[38;5;241;43m=\u001b[39;49m\u001b[43mcast_to\u001b[49m\u001b[43m,\u001b[49m\n\u001b[1;32m   1056\u001b[0m \u001b[43m    \u001b[49m\u001b[43mremaining_retries\u001b[49m\u001b[38;5;241;43m=\u001b[39;49m\u001b[43mremaining\u001b[49m\u001b[43m,\u001b[49m\n\u001b[1;32m   1057\u001b[0m \u001b[43m    \u001b[49m\u001b[43mstream\u001b[49m\u001b[38;5;241;43m=\u001b[39;49m\u001b[43mstream\u001b[49m\u001b[43m,\u001b[49m\n\u001b[1;32m   1058\u001b[0m \u001b[43m    \u001b[49m\u001b[43mstream_cls\u001b[49m\u001b[38;5;241;43m=\u001b[39;49m\u001b[43mstream_cls\u001b[49m\u001b[43m,\u001b[49m\n\u001b[1;32m   1059\u001b[0m \u001b[43m\u001b[49m\u001b[43m)\u001b[49m\n",
      "File \u001b[0;32m/opt/homebrew/Caskroom/miniconda/base/envs/dl/lib/python3.8/site-packages/openai/_base_client.py:1005\u001b[0m, in \u001b[0;36mSyncAPIClient._request\u001b[0;34m(self, cast_to, options, remaining_retries, stream, stream_cls)\u001b[0m\n\u001b[1;32m   1003\u001b[0m \u001b[38;5;28;01mif\u001b[39;00m retries \u001b[38;5;241m>\u001b[39m \u001b[38;5;241m0\u001b[39m \u001b[38;5;129;01mand\u001b[39;00m \u001b[38;5;28mself\u001b[39m\u001b[38;5;241m.\u001b[39m_should_retry(err\u001b[38;5;241m.\u001b[39mresponse):\n\u001b[1;32m   1004\u001b[0m     err\u001b[38;5;241m.\u001b[39mresponse\u001b[38;5;241m.\u001b[39mclose()\n\u001b[0;32m-> 1005\u001b[0m     \u001b[38;5;28;01mreturn\u001b[39;00m \u001b[38;5;28;43mself\u001b[39;49m\u001b[38;5;241;43m.\u001b[39;49m\u001b[43m_retry_request\u001b[49m\u001b[43m(\u001b[49m\n\u001b[1;32m   1006\u001b[0m \u001b[43m        \u001b[49m\u001b[43moptions\u001b[49m\u001b[43m,\u001b[49m\n\u001b[1;32m   1007\u001b[0m \u001b[43m        \u001b[49m\u001b[43mcast_to\u001b[49m\u001b[43m,\u001b[49m\n\u001b[1;32m   1008\u001b[0m \u001b[43m        \u001b[49m\u001b[43mretries\u001b[49m\u001b[43m,\u001b[49m\n\u001b[1;32m   1009\u001b[0m \u001b[43m        \u001b[49m\u001b[43merr\u001b[49m\u001b[38;5;241;43m.\u001b[39;49m\u001b[43mresponse\u001b[49m\u001b[38;5;241;43m.\u001b[39;49m\u001b[43mheaders\u001b[49m\u001b[43m,\u001b[49m\n\u001b[1;32m   1010\u001b[0m \u001b[43m        \u001b[49m\u001b[43mstream\u001b[49m\u001b[38;5;241;43m=\u001b[39;49m\u001b[43mstream\u001b[49m\u001b[43m,\u001b[49m\n\u001b[1;32m   1011\u001b[0m \u001b[43m        \u001b[49m\u001b[43mstream_cls\u001b[49m\u001b[38;5;241;43m=\u001b[39;49m\u001b[43mstream_cls\u001b[49m\u001b[43m,\u001b[49m\n\u001b[1;32m   1012\u001b[0m \u001b[43m    \u001b[49m\u001b[43m)\u001b[49m\n\u001b[1;32m   1014\u001b[0m \u001b[38;5;66;03m# If the response is streamed then we need to explicitly read the response\u001b[39;00m\n\u001b[1;32m   1015\u001b[0m \u001b[38;5;66;03m# to completion before attempting to access the response text.\u001b[39;00m\n\u001b[1;32m   1016\u001b[0m \u001b[38;5;28;01mif\u001b[39;00m \u001b[38;5;129;01mnot\u001b[39;00m err\u001b[38;5;241m.\u001b[39mresponse\u001b[38;5;241m.\u001b[39mis_closed:\n",
      "File \u001b[0;32m/opt/homebrew/Caskroom/miniconda/base/envs/dl/lib/python3.8/site-packages/openai/_base_client.py:1053\u001b[0m, in \u001b[0;36mSyncAPIClient._retry_request\u001b[0;34m(self, options, cast_to, remaining_retries, response_headers, stream, stream_cls)\u001b[0m\n\u001b[1;32m   1049\u001b[0m \u001b[38;5;66;03m# In a synchronous context we are blocking the entire thread. Up to the library user to run the client in a\u001b[39;00m\n\u001b[1;32m   1050\u001b[0m \u001b[38;5;66;03m# different thread if necessary.\u001b[39;00m\n\u001b[1;32m   1051\u001b[0m time\u001b[38;5;241m.\u001b[39msleep(timeout)\n\u001b[0;32m-> 1053\u001b[0m \u001b[38;5;28;01mreturn\u001b[39;00m \u001b[38;5;28;43mself\u001b[39;49m\u001b[38;5;241;43m.\u001b[39;49m\u001b[43m_request\u001b[49m\u001b[43m(\u001b[49m\n\u001b[1;32m   1054\u001b[0m \u001b[43m    \u001b[49m\u001b[43moptions\u001b[49m\u001b[38;5;241;43m=\u001b[39;49m\u001b[43moptions\u001b[49m\u001b[43m,\u001b[49m\n\u001b[1;32m   1055\u001b[0m \u001b[43m    \u001b[49m\u001b[43mcast_to\u001b[49m\u001b[38;5;241;43m=\u001b[39;49m\u001b[43mcast_to\u001b[49m\u001b[43m,\u001b[49m\n\u001b[1;32m   1056\u001b[0m \u001b[43m    \u001b[49m\u001b[43mremaining_retries\u001b[49m\u001b[38;5;241;43m=\u001b[39;49m\u001b[43mremaining\u001b[49m\u001b[43m,\u001b[49m\n\u001b[1;32m   1057\u001b[0m \u001b[43m    \u001b[49m\u001b[43mstream\u001b[49m\u001b[38;5;241;43m=\u001b[39;49m\u001b[43mstream\u001b[49m\u001b[43m,\u001b[49m\n\u001b[1;32m   1058\u001b[0m \u001b[43m    \u001b[49m\u001b[43mstream_cls\u001b[49m\u001b[38;5;241;43m=\u001b[39;49m\u001b[43mstream_cls\u001b[49m\u001b[43m,\u001b[49m\n\u001b[1;32m   1059\u001b[0m \u001b[43m\u001b[49m\u001b[43m)\u001b[49m\n",
      "File \u001b[0;32m/opt/homebrew/Caskroom/miniconda/base/envs/dl/lib/python3.8/site-packages/openai/_base_client.py:1020\u001b[0m, in \u001b[0;36mSyncAPIClient._request\u001b[0;34m(self, cast_to, options, remaining_retries, stream, stream_cls)\u001b[0m\n\u001b[1;32m   1017\u001b[0m         err\u001b[38;5;241m.\u001b[39mresponse\u001b[38;5;241m.\u001b[39mread()\n\u001b[1;32m   1019\u001b[0m     log\u001b[38;5;241m.\u001b[39mdebug(\u001b[38;5;124m\"\u001b[39m\u001b[38;5;124mRe-raising status error\u001b[39m\u001b[38;5;124m\"\u001b[39m)\n\u001b[0;32m-> 1020\u001b[0m     \u001b[38;5;28;01mraise\u001b[39;00m \u001b[38;5;28mself\u001b[39m\u001b[38;5;241m.\u001b[39m_make_status_error_from_response(err\u001b[38;5;241m.\u001b[39mresponse) \u001b[38;5;28;01mfrom\u001b[39;00m \u001b[38;5;28;01mNone\u001b[39;00m\n\u001b[1;32m   1022\u001b[0m \u001b[38;5;28;01mreturn\u001b[39;00m \u001b[38;5;28mself\u001b[39m\u001b[38;5;241m.\u001b[39m_process_response(\n\u001b[1;32m   1023\u001b[0m     cast_to\u001b[38;5;241m=\u001b[39mcast_to,\n\u001b[1;32m   1024\u001b[0m     options\u001b[38;5;241m=\u001b[39moptions,\n\u001b[0;32m   (...)\u001b[0m\n\u001b[1;32m   1027\u001b[0m     stream_cls\u001b[38;5;241m=\u001b[39mstream_cls,\n\u001b[1;32m   1028\u001b[0m )\n",
      "\u001b[0;31mRateLimitError\u001b[0m: Error code: 429 - {'error': {'message': 'You exceeded your current quota, please check your plan and billing details. For more information on this error, read the docs: https://platform.openai.com/docs/guides/error-codes/api-errors.', 'type': 'insufficient_quota', 'param': None, 'code': 'insufficient_quota'}}"
     ]
    }
   ],
   "source": [
    "from utils import *\n",
    "trans = question_translate(prompt)\n",
    "for q in questions:\n",
    "    print(trans.put_new(q))"
   ]
  },
  {
   "cell_type": "code",
   "execution_count": 196,
   "metadata": {},
   "outputs": [
    {
     "name": "stdout",
     "output_type": "stream",
     "text": [
      "{'Target': {'Name': 'price'}, 'Condition': [{'Name': 'review_scores_rating', 'Value': nan}, {'Name': 'City', 'Value': 'Clark County, NV'}], 'Text': 'What is the price of Airbnb listings in Clark County, NV that have no review scores available?'}\n"
     ]
    }
   ],
   "source": [
    "for q in questions[7:8]:\n",
    "    print(json.load(open(q)))"
   ]
  },
  {
   "cell_type": "code",
   "execution_count": null,
   "metadata": {},
   "outputs": [],
   "source": []
  }
 ],
 "metadata": {
  "kernelspec": {
   "display_name": "dl",
   "language": "python",
   "name": "python3"
  },
  "language_info": {
   "codemirror_mode": {
    "name": "ipython",
    "version": 3
   },
   "file_extension": ".py",
   "mimetype": "text/x-python",
   "name": "python",
   "nbconvert_exporter": "python",
   "pygments_lexer": "ipython3",
   "version": "3.8.18"
  }
 },
 "nbformat": 4,
 "nbformat_minor": 2
}

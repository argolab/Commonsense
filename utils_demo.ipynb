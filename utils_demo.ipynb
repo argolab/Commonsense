{
 "cells": [
  {
   "cell_type": "code",
   "execution_count": 1,
   "metadata": {},
   "outputs": [],
   "source": [
    "from utils import *\n",
    "import json"
   ]
  },
  {
   "cell_type": "code",
   "execution_count": 2,
   "metadata": {},
   "outputs": [],
   "source": [
    "example = json.load(open('./example_files/example_question.json'))\n",
    "\n",
    "# separate 'Text' and the rest of the entries\n",
    "text = example['Text']\n",
    "example.pop('Text')\n",
    "js = json.dumps(example)\n",
    "\n",
    "prompt = []\n",
    "\n",
    "system = \"Translate the provided JSON data into a question sentence in English. Follow the provided example. Include keyword Airbnb.\"\n",
    "\n",
    "user_1 = js\n",
    "assistant_1 = text\n",
    "\n",
    "prompt.append({'role': 'system', 'content': system})\n",
    "prompt.append({'role': 'user', 'content': user_1})\n",
    "prompt.append({'role': 'assistant', 'content': assistant_1})"
   ]
  },
  {
   "cell_type": "code",
   "execution_count": 3,
   "metadata": {},
   "outputs": [
    {
     "data": {
      "text/plain": [
       "'What is the nightly price of an Airbnb listing in a villa with 2 or more bathrooms located in New York or Los Angeles?'"
      ]
     },
     "execution_count": 3,
     "metadata": {},
     "output_type": "execute_result"
    }
   ],
   "source": [
    "trans = question_translate(prompt)\n",
    "test_example = json.load(open('./example_files/test_question.json'))\n",
    "trans.get_text(test_example)\n",
    "trans.put_new('./example_files/test_question.json')"
   ]
  },
  {
   "cell_type": "code",
   "execution_count": 4,
   "metadata": {},
   "outputs": [
    {
     "name": "stdout",
     "output_type": "stream",
     "text": [
      "Columns in dataset:  Index(['id', 'log_price', 'property_type', 'room_type', 'amenities',\n",
      "       'accommodates', 'bathrooms', 'bed_type', 'cancellation_policy',\n",
      "       'cleaning_fee', 'city', 'description', 'first_review',\n",
      "       'host_has_profile_pic', 'host_identity_verified', 'host_response_rate',\n",
      "       'host_since', 'instant_bookable', 'last_review', 'latitude',\n",
      "       'longitude', 'name', 'neighbourhood', 'number_of_reviews',\n",
      "       'review_scores_rating', 'thumbnail_url', 'zipcode', 'bedrooms', 'beds'],\n",
      "      dtype='object')\n",
      "['Private room']\n",
      "Airbed 0.008975781708988837\n",
      "Couch 0.0020236307852993015\n",
      "Futon 0.015862654220249364\n",
      "Pull-out Sofa 0.008388275997127749\n",
      "Real Bed 0.9647496572883347\n"
     ]
    },
    {
     "data": {
      "text/plain": [
       "(array([0.00897578, 0.00202363, 0.01586265, 0.00838828, 0.96474966]),\n",
       " array(['Airbed', 'Couch', 'Futon', 'Pull-out Sofa', 'Real Bed'],\n",
       "       dtype='<U13'))"
      ]
     },
     "execution_count": 4,
     "metadata": {},
     "output_type": "execute_result"
    }
   ],
   "source": [
    "dat = DatasetQ(verbose=True)\n",
    "ques = json.load(open(\"./example_files/data_marg.json\"))\n",
    "dat.marg(ques)"
   ]
  }
 ],
 "metadata": {
  "kernelspec": {
   "display_name": "dl",
   "language": "python",
   "name": "python3"
  },
  "language_info": {
   "codemirror_mode": {
    "name": "ipython",
    "version": 3
   },
   "file_extension": ".py",
   "mimetype": "text/x-python",
   "name": "python",
   "nbconvert_exporter": "python",
   "pygments_lexer": "ipython3",
   "version": "3.8.18"
  }
 },
 "nbformat": 4,
 "nbformat_minor": 2
}

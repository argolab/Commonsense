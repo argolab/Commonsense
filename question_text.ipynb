{
 "cells": [
  {
   "cell_type": "code",
   "execution_count": 1,
   "metadata": {},
   "outputs": [],
   "source": [
    "from openai import OpenAI\n",
    "import dotenv\n",
    "import rich\n",
    "dotenv.load_dotenv('.env')\n",
    "import mrf\n",
    "import mrf_data\n",
    "import tiktoken\n",
    "import json\n",
    "import llm\n",
    "encoding = tiktoken.encoding_for_model('gpt-4o')\n",
    "from importlib import reload\n",
    "import torch\n",
    "import numpy as np\n"
   ]
  },
  {
   "cell_type": "code",
   "execution_count": 31,
   "metadata": {},
   "outputs": [],
   "source": [
    "example = json.load(open('example_question.json'))\n",
    "\n",
    "# separate 'Text' and the rest of the entries\n",
    "\n",
    "text = example['Text']\n",
    "example.pop('Text')\n",
    "js = json.dumps(example)"
   ]
  },
  {
   "cell_type": "code",
   "execution_count": 36,
   "metadata": {},
   "outputs": [
    {
     "name": "stdout",
     "output_type": "stream",
     "text": [
      "[{'role': 'system', 'content': 'Translate the provided JSON data into a question sentence in English. Follow the provided example. Include keyword Airbnb.'}, {'role': 'user', 'content': '{\"Target\": [{\"Name\": \"price\", \"Type\": \"float\"}], \"Condition\": [{\"Name\": \"room_type\", \"Type\": \"str\", \"Value\": [\"Private room\"]}, {\"Name\": \"beds\", \"Type\": \"int\", \"Value\": [\"1\", \"2\", \"3\"]}]}'}, {'role': 'assistant', 'content': 'What is the nightly price of a aribnb listing that is a private room in a property with at most 3 beds?'}]\n"
     ]
    }
   ],
   "source": [
    "prompt = []\n",
    "\n",
    "system = \"Translate the provided JSON data into a question sentence in English. Follow the provided example. Include keyword Airbnb.\"\n",
    "\n",
    "user_1 = js\n",
    "assistant_1 = text\n",
    "\n",
    "prompt.append({'role': 'system', 'content': system})\n",
    "prompt.append({'role': 'user', 'content': user_1})\n",
    "prompt.append({'role': 'assistant', 'content': assistant_1})\n",
    "\n",
    "print(prompt)\n",
    "\n",
    "\n",
    "\n",
    "class question_translate():\n",
    "    def __init__(self, prompt):\n",
    "        self.client = OpenAI()\n",
    "        self.prompt = prompt\n",
    "        self.model = 'gpt-3.5-turbo'\n",
    "        \n",
    "    \n",
    "    def get_text(self, js_question):\n",
    "        tmp = self.prompt.copy()\n",
    "        if type(js_question) == dict:\n",
    "            js_question = json.dumps(js_question)\n",
    "        tmp.append({'role': 'user', 'content': js_question})\n",
    "        response = self.client.chat.completions.create(\n",
    "            model=self.model,\n",
    "            response_format={ \"type\": \"text\" },\n",
    "            temperature=0,\n",
    "            messages=tmp\n",
    "        )\n",
    "        return response.choices[0].message.content\n",
    "    \n",
    "    def put_new(self, js_path, out_path=None):\n",
    "\n",
    "        js = json.load(open(js_path)).copy()\n",
    "        text = self.get_text(js)\n",
    "        js['Text'] = text\n",
    "\n",
    "        if out_path:\n",
    "            json.dump(js, open(out_path, 'w'), indent=2)\n",
    "        else:\n",
    "            out_path = js_path[:-5] + 'q.json'\n",
    "            json.dump(js, open('output.json', 'w'), indent=2)\n",
    "\n",
    "        return text\n",
    "\n"
   ]
  },
  {
   "cell_type": "code",
   "execution_count": 37,
   "metadata": {},
   "outputs": [],
   "source": [
    "trans = question_translate(prompt)\n",
    "test_example = json.load(open('test_question.json'))\n"
   ]
  },
  {
   "cell_type": "code",
   "execution_count": 38,
   "metadata": {},
   "outputs": [
    {
     "data": {
      "text/plain": [
       "[{'role': 'system',\n",
       "  'content': 'Translate the provided JSON data into a question sentence in English. Follow the provided example. Include keyword Airbnb.'},\n",
       " {'role': 'user',\n",
       "  'content': '{\"Target\": [{\"Name\": \"price\", \"Type\": \"float\"}], \"Condition\": [{\"Name\": \"room_type\", \"Type\": \"str\", \"Value\": [\"Private room\"]}, {\"Name\": \"beds\", \"Type\": \"int\", \"Value\": [\"1\", \"2\", \"3\"]}]}'},\n",
       " {'role': 'assistant',\n",
       "  'content': 'What is the nightly price of a aribnb listing that is a private room in a property with at most 3 beds?'}]"
      ]
     },
     "execution_count": 38,
     "metadata": {},
     "output_type": "execute_result"
    }
   ],
   "source": [
    "prompt"
   ]
  },
  {
   "cell_type": "code",
   "execution_count": 39,
   "metadata": {},
   "outputs": [
    {
     "data": {
      "text/plain": [
       "'What is the nightly price of an Airbnb villa listing in New York or Los Angeles with 2 or more bathrooms?'"
      ]
     },
     "execution_count": 39,
     "metadata": {},
     "output_type": "execute_result"
    }
   ],
   "source": [
    "trans.put_new('test_question.json')"
   ]
  },
  {
   "cell_type": "code",
   "execution_count": 24,
   "metadata": {},
   "outputs": [
    {
     "data": {
      "text/plain": [
       "'What is the nightly price of an Airbnb listing for a villa with 2 or more bathrooms in either New York or Los Angeles?'"
      ]
     },
     "execution_count": 24,
     "metadata": {},
     "output_type": "execute_result"
    }
   ],
   "source": [
    "trans.get_text(test_example)"
   ]
  }
 ],
 "metadata": {
  "kernelspec": {
   "display_name": "dl",
   "language": "python",
   "name": "python3"
  },
  "language_info": {
   "codemirror_mode": {
    "name": "ipython",
    "version": 3
   },
   "file_extension": ".py",
   "mimetype": "text/x-python",
   "name": "python",
   "nbconvert_exporter": "python",
   "pygments_lexer": "ipython3",
   "version": "3.8.18"
  }
 },
 "nbformat": 4,
 "nbformat_minor": 2
}
